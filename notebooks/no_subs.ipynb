{
 "cells": [
  {
   "cell_type": "code",
   "execution_count": 373,
   "outputs": [],
   "source": [
    "import sqlite3\n",
    "import pandas as pd\n",
    "import numpy as np\n",
    "import global_imports\n",
    "from src import xbox_spreadsheet, origin_parse, report, write_to_excel\n",
    "import re\n",
    "import json\n",
    "\n",
    "# Not necessary in a py file as jupyter does not set the path correctly\n",
    "import os\n",
    "if os.getcwd().split('\\\\')[-1] != global_imports.root_folder:\n",
    "    os.chdir(global_imports.root_folder)"
   ],
   "metadata": {
    "collapsed": false,
    "pycharm": {
     "name": "#%% import statements\n"
    }
   }
  },
  {
   "cell_type": "code",
   "execution_count": 374,
   "outputs": [],
   "source": [
    "def import_database_from_sql(sql_query,db_path):\n",
    "    connector = sqlite3.connect(db_path)\n",
    "    db = pd.read_sql(sql_query, connector)\n",
    "    return db\n",
    "\n",
    "game_piece_type_query = 'SELECT * FROM GamePieceTypes'\n",
    "game_piece_type = import_database_from_sql(game_piece_type_query, global_imports.main_db_path)\n",
    "\n",
    "all_db_query = \"\"\"SELECT GamePieces.releaseKey, GamePieces.gamePieceTypeId, GamePieces.value\n",
    "    FROM GameLinks\n",
    "\tJOIN GamePieces ON GameLinks.releaseKey = GamePieces.releaseKey\n",
    "\tJOIN LibraryReleases ON GameLinks.releaseKey = LibraryReleases.releaseKey\"\"\"\n",
    "main_db = import_database_from_sql(all_db_query, global_imports.main_db_path)"
   ],
   "metadata": {
    "collapsed": false,
    "pycharm": {
     "name": "#%% import main_db and datatype db for mapping the data to extract from main_db\n"
    }
   }
  },
  {
   "cell_type": "code",
   "execution_count": 375,
   "outputs": [],
   "source": [
    "column_names = ['title', 'meta']\n",
    "\n",
    "def split_metadata_into_columns(column_list, db):\n",
    "    \"\"\"Splits metadata of the main_db into different rows. Arguments are a list of column_names\n",
    "    and the dataframe\"\"\"\n",
    "\n",
    "# Creates columns for each item in column_list\n",
    "    for val in column_list:\n",
    "        type_id = int(game_piece_type.loc[game_piece_type['type'] == val, 'id'])\n",
    "        db[val] = db.loc[db['gamePieceTypeId'] == type_id, 'value']\n",
    "\n",
    "# Drop rows that are null in all of the generated columns. This will remove every row that\n",
    "# is not in column_list\n",
    "    db = db.dropna(subset=column_list, how='all')\n",
    "\n",
    "# Drop every other row we do not need anymore\n",
    "    db = db.drop(['value','gamePieceTypeId'], axis=1)\n",
    "\n",
    "# Group by releaseKey since the data is in its own rows. Fill row with NAN if every row is NAN\n",
    "    db = db.groupby('releaseKey', as_index=True).agg(lambda x: np.nan if x.isnull().all()\n",
    "    else x.dropna()).reset_index()\n",
    "    db = db.set_index(np.arange(0, len(db)))\n",
    "    return db\n",
    "\n",
    "\n",
    "main_db = split_metadata_into_columns(column_names, main_db)"
   ],
   "metadata": {
    "collapsed": false,
    "pycharm": {
     "name": "#%%\n"
    }
   }
  },
  {
   "cell_type": "code",
   "execution_count": 376,
   "outputs": [],
   "source": [
    "def extract_date(db):\n",
    "    \"\"\"Extract Release Date from metadata and convert it into MM YYYY format\"\"\"\n",
    "\n",
    "    date_pattern = 'releaseDate\\\":(\\d{9,10})'\n",
    "    def format_date(x):\n",
    "        date = re.search(date_pattern, x)\n",
    "        if date:\n",
    "            val = pd.to_datetime(date.group(1), unit='s')\n",
    "            val = val.strftime('%Y %b')\n",
    "            return val\n",
    "        else:\n",
    "            return 'No Date'\n",
    "\n",
    "    db['date'] = db['meta'].apply(format_date)\n",
    "    db = db.drop('meta', axis=1)\n",
    "    return db\n",
    "\n",
    "main_db = extract_date(main_db)"
   ],
   "metadata": {
    "collapsed": false,
    "pycharm": {
     "name": "#%% Extract Relevant Information from metadata\n"
    }
   }
  },
  {
   "cell_type": "code",
   "execution_count": 377,
   "outputs": [],
   "source": [
    "def create_platform(db):\n",
    "    with open(global_imports.platforms_json) as platform_file:\n",
    "        platform = json.load(platform_file)\n",
    "\n",
    "    # Create a regex pattern of all platforms to match and then return the actual platform name\n",
    "    platform_keys = list(platform.keys())\n",
    "    platform_pattern = re.compile(r\"(\\b{}\\b)\".format(\"|\".join(platform_keys)))\n",
    "\n",
    "    def platform_extract(x):\n",
    "        m = platform_pattern.match(x)\n",
    "        if m:\n",
    "            return platform[m.group(1)]\n",
    "\n",
    "    db['platform'] = db['releaseKey'].apply(platform_extract)\n",
    "    return db\n",
    "\n",
    "main_db = create_platform(main_db)"
   ],
   "metadata": {
    "collapsed": false,
    "pycharm": {
     "name": "#%% Create Platform Column by extracting from releaseKey\n"
    }
   }
  },
  {
   "cell_type": "code",
   "execution_count": 378,
   "outputs": [],
   "source": [
    "def remove_hidden_games_by_gog(db):\n",
    "    hidden_db_query = 'SELECT releaseKey, isDlc, isVisibleInLibrary FROM ReleaseProperties'\n",
    "    hidden_db = import_database_from_sql(hidden_db_query, global_imports.main_db_path)\n",
    "\n",
    "    # Delete everything marked as DLC or not visible in library\n",
    "    db = db[~db['releaseKey'].isin(hidden_db.loc[hidden_db['isVisibleInLibrary'] == 0, 'releaseKey'])]\n",
    "    db = db[~db['releaseKey'].isin(hidden_db.loc[hidden_db['isDlc'] == 1, 'releaseKey'])]\n",
    "    return db\n",
    "\n",
    "main_db = remove_hidden_games_by_gog(main_db)"
   ],
   "metadata": {
    "collapsed": false,
    "pycharm": {
     "name": "#%% Remove games marked as DLC and hidden by GOG\n"
    }
   }
  },
  {
   "cell_type": "code",
   "execution_count": 379,
   "outputs": [],
   "source": [
    "def remove_manual_hidden_games_by_user(db):\n",
    "    user_hidden_db_query = 'SELECT releaseKey, isHidden FROM UserReleaseProperties'\n",
    "    user_hidden_db = import_database_from_sql(user_hidden_db_query, global_imports.main_db_path)\n",
    "\n",
    "    # Remove games in main_db but not in user_hidden_db as these were never owned\n",
    "    db = db.drop(db[~db['releaseKey'].isin(user_hidden_db['releaseKey'])].index)\n",
    "    db = db[~db['releaseKey'].isin(user_hidden_db.loc[user_hidden_db['isHidden'] == 1, 'releaseKey'])]\n",
    "    db = db.reset_index(drop=True)\n",
    "    return db\n",
    "\n",
    "main_db = remove_manual_hidden_games_by_user(main_db)"
   ],
   "metadata": {
    "collapsed": false,
    "pycharm": {
     "name": "#%% Remove games marked as DLC and hidden by user\n"
    }
   }
  },
  {
   "cell_type": "code",
   "execution_count": 380,
   "outputs": [],
   "source": [
    "# Remove brackets and quotes around titlee\n",
    "main_db['title'] = main_db['title'].apply(lambda x: x[10:-2])\n",
    "\n",
    "def format_titles(db, column):\n",
    "\n",
    "    \"\"\"Format Title by removing special apostrophe\"\"\"\n",
    "\n",
    "    # Remove special apostrophe\n",
    "    db[column] = db[column].str.replace('’', '')\n",
    "\n",
    "    return db\n",
    "\n",
    "main_db = format_titles(main_db, 'title')"
   ],
   "metadata": {
    "collapsed": false,
    "pycharm": {
     "name": "#%% Format Titles\n"
    }
   }
  },
  {
   "cell_type": "code",
   "execution_count": 381,
   "outputs": [],
   "source": [
    "def remove_duplicates(db):\n",
    "\n",
    "    # Delete rows with same title and platform\n",
    "    db = db.drop_duplicates(subset=['title','platform'], keep='last').reset_index(drop=True)\n",
    "\n",
    "    # Delete rows with same title in 'Other' Platform\n",
    "    dup = db[db.duplicated(subset=['title'], keep=False)].sort_values('title')\n",
    "    db = db.drop(dup[dup['platform'].str.match('Other')].index).reset_index(drop=True)\n",
    "    db = db[~db['title'].str.contains('trial$',flags=re.IGNORECASE)]\n",
    "    return db\n",
    "main_db = remove_duplicates(main_db)"
   ],
   "metadata": {
    "collapsed": false,
    "pycharm": {
     "name": "#%% Remove duplicates which have same title and platform\n"
    }
   }
  },
  {
   "cell_type": "code",
   "execution_count": 382,
   "outputs": [],
   "source": [
    "def create_tag(db):\n",
    "\n",
    "    # Import tags database\n",
    "    tag_db_query = 'SELECT releaseKey, tag FROM UserReleaseTags'\n",
    "    tag_db = import_database_from_sql(tag_db_query, global_imports.main_db_path)\n",
    "    temp = db.merge(tag_db, how='left',left_on=['releaseKey'],right_on=['releaseKey'])\n",
    "\n",
    "    def create_status(x):\n",
    "        pattern = re.compile(r\"S - (\\w+)\")\n",
    "        if pattern.match(x):\n",
    "            return pattern.match(x).group(1)\n",
    "        return np.nan\n",
    "\n",
    "    def create_length(x):\n",
    "        pattern = re.compile(r\"L - (\\w+)\")\n",
    "        if pattern.match(x):\n",
    "            return pattern.match(x).group(1)\n",
    "        return np.nan\n",
    "\n",
    "    def create_platform_other(x):\n",
    "        pattern = re.compile(r\"P - (\\w+)\")\n",
    "        if pattern.match(x):\n",
    "            return pattern.match(x).group(1)\n",
    "        return np.nan\n",
    "\n",
    "    # Create Status and Length as two separate Columns\n",
    "    temp['tag'] = temp['tag'].fillna('No tag')\n",
    "    temp['Status'] = temp['tag'].apply(create_status)\n",
    "    temp['Length'] = temp['tag'].apply(create_length)\n",
    "    temp['other_platform'] = temp['tag'].apply(create_platform_other)\n",
    "    temp.drop(['tag'], axis=1, inplace=True)\n",
    "    temp = temp.groupby('releaseKey')[['Status','Length', 'other_platform']].first().reset_index()\n",
    "    db = db.merge(temp, how='left', on='releaseKey')\n",
    "    return db\n",
    "\n",
    "# Add the Status and Length to the main Table\n",
    "main_db = create_tag(main_db)"
   ],
   "metadata": {
    "collapsed": false,
    "pycharm": {
     "name": "#%% Create Tag\n"
    }
   }
  },
  {
   "cell_type": "code",
   "execution_count": 383,
   "outputs": [],
   "source": [
    "def platform_tag_correction(db):\n",
    "\n",
    "    db.loc[db['platform'] == 'Other', 'platform'] = np.NaN\n",
    "    db.loc[db['platform'] == 'Xbox Gamepass', 'platform'] = np.NaN\n",
    "    db['platform'] = db['platform'].combine_first(db['other_platform'])\n",
    "    db.drop(['other_platform'], axis=1, inplace=True)\n",
    "    return db\n",
    "\n",
    "main_db = platform_tag_correction(main_db)"
   ],
   "metadata": {
    "collapsed": false,
    "pycharm": {
     "name": "#%% Integrate Platform tag into the platform row for subscriptions and other platforms\n"
    }
   }
  },
  {
   "cell_type": "code",
   "execution_count": 385,
   "outputs": [],
   "source": [
    "main_db = main_db.rename(columns={\"title\": \"Title\", \"date\": \"Release\", \"platform\": \"Platform\"})\n",
    "main_db.reset_index(drop = True, inplace = True)"
   ],
   "metadata": {
    "collapsed": false,
    "pycharm": {
     "name": "#%% Rename Columns\n"
    }
   }
  },
  {
   "cell_type": "code",
   "execution_count": 386,
   "outputs": [],
   "source": [
    "def group_platform(db):\n",
    "    temp = db.groupby('Title').agg({'Platform':'; '.join})\n",
    "    db = db.merge(temp, how='inner',left_on=['Title'],right_on=['Title'])\n",
    "    db = db.drop('Platform_x', axis=1)\n",
    "    db = db.drop_duplicates(subset=['Title', 'Platform_y'], keep='last')\n",
    "    db = db.reset_index(drop=True)\n",
    "    db = db.rename(columns={\"Platform_y\": \"Platform\"})\n",
    "    return db\n",
    "\n",
    "main_db = group_platform(main_db)"
   ],
   "metadata": {
    "collapsed": false,
    "pycharm": {
     "name": "#%% Group Platforms\n"
    }
   }
  },
  {
   "cell_type": "code",
   "execution_count": 387,
   "outputs": [],
   "source": [
    "def add_gameplay_time(db):\n",
    "    time_query = 'SELECT ProductName, StatTotalFullRuntime FROM Applications'\n",
    "    time_db = import_database_from_sql(time_query, global_imports.gtt_db_path)\n",
    "    db = db.merge(time_db, how='left', left_on='Title', right_on='ProductName')\n",
    "    db = db.drop('ProductName', axis=1)\n",
    "    db['StatTotalFullRuntime'] = db['StatTotalFullRuntime'].fillna(0)\n",
    "    db = db.rename(columns={\"StatTotalFullRuntime\": \"GameplayTime\"})\n",
    "\n",
    "    def convert_to_hours(x):\n",
    "        if x:\n",
    "\n",
    "            # The value of gameplay has additional zeroes. Remove zeroes and convert to minutes\n",
    "            x = x/(10000000*60)\n",
    "            hours = int(x/60)\n",
    "            minutes = int(x%60)\n",
    "\n",
    "            # Return output according to whether minutes or hours are zero\n",
    "            if hours and minutes:\n",
    "                return str(hours) + ' Hours ' + str(minutes) + ' Minutes'\n",
    "            elif hours:\n",
    "                return str(hours) + ' Hours'\n",
    "            elif minutes:\n",
    "                return str(minutes) + ' Minutes'\n",
    "        else:\n",
    "            return 0\n",
    "    db['GameplayTime'] = db['GameplayTime'].apply(convert_to_hours)\n",
    "    return db\n",
    "\n",
    "main_db = add_gameplay_time(main_db)"
   ],
   "metadata": {
    "collapsed": false,
    "pycharm": {
     "name": "#%% Import Gameplay Time Tracker\n"
    }
   }
  },
  {
   "cell_type": "code",
   "execution_count": 388,
   "outputs": [],
   "source": [
    "main_db.sort_values('Title',inplace=True)"
   ],
   "metadata": {
    "collapsed": false,
    "pycharm": {
     "name": "#%%\n"
    }
   }
  }
 ],
 "metadata": {
  "kernelspec": {
   "display_name": "Python 3",
   "language": "python",
   "name": "python3"
  },
  "language_info": {
   "codemirror_mode": {
    "name": "ipython",
    "version": 2
   },
   "file_extension": ".py",
   "mimetype": "text/x-python",
   "name": "python",
   "nbconvert_exporter": "python",
   "pygments_lexer": "ipython2",
   "version": "2.7.6"
  }
 },
 "nbformat": 4,
 "nbformat_minor": 0
}
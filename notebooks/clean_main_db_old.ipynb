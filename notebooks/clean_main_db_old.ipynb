{
 "cells": [
  {
   "cell_type": "code",
   "execution_count": 1,
   "metadata": {
    "collapsed": true,
    "pycharm": {
     "name": "#%% import db into jupyter\n"
    }
   },
   "outputs": [],
   "source": [
    "import pandas as pd\n",
    "import re\n",
    "import json\n",
    "\n",
    "import os\n",
    "os.chdir('D:\\Projects\\hard_to_choose\\src')\n",
    "\n",
    "import xbox_spreadsheet\n",
    "import read_db\n",
    "import origin_parse"
   ]
  },
  {
   "cell_type": "code",
   "execution_count": 2,
   "outputs": [],
   "source": [
    "df = pd.DataFrame(read_db.import_master(conn=read_db.open_db()), columns = ['releaseKey','typeID','metadata'])"
   ],
   "metadata": {
    "collapsed": false,
    "pycharm": {
     "name": "#%%\n"
    }
   }
  },
  {
   "cell_type": "code",
   "execution_count": 3,
   "outputs": [],
   "source": [
    "def remove_metadata(data):\n",
    "    eliminate = [1,4,5,6,7,10,19,47,1377,1378,1421,1422,1423,1424,3465,3466]\n",
    "\n",
    "    # Remove any rows whose metadata type was in eliminate since they were not needdedd\n",
    "    return (data[~data['typeID'].isin(eliminate)]).reset_index(drop=True)\n",
    "\n",
    "df = remove_metadata(df)"
   ],
   "metadata": {
    "collapsed": false,
    "pycharm": {
     "name": "#%% remove unnecessary metadata\n"
    }
   }
  },
  {
   "cell_type": "code",
   "execution_count": 4,
   "outputs": [],
   "source": [
    "def split_metadata(data):\n",
    "    meta_types = {8:'originalMeta',9:'originalTitle',46:'meta',48:'title'}\n",
    "\n",
    "    # Create New rows for each item in meta_types\n",
    "    for key,value in meta_types.items():\n",
    "        data[value] = data.loc[data['typeID'] == key, 'metadata']\n",
    "\n",
    "    # Split the metadata into title and meta and remove the other details\n",
    "    data = data.groupby('releaseKey')[list(meta_types.values())].first().reset_index()\n",
    "    data.dropna(inplace=True)\n",
    "    data = data.drop(['originalTitle', 'originalMeta'], axis=1).reset_index(drop=True)\n",
    "    return data\n",
    "\n",
    "df = split_metadata(df)"
   ],
   "metadata": {
    "collapsed": false,
    "pycharm": {
     "name": "#%% group metadata columns\n"
    }
   }
  },
  {
   "cell_type": "code",
   "execution_count": 5,
   "outputs": [],
   "source": [
    "# Remove the brackets\n",
    "df['title'] = df['title'].apply(lambda x: x[10:-2])\n",
    "\n",
    "def format_title(data, column):\n",
    "\n",
    "    # Remove trademark and copyright\n",
    "    data[column] = data[column].str.replace('\\u2122|\\u00AE', '')\n",
    "\n",
    "    # Remove all text within a bracket\n",
    "    data[column] = data[column].str.replace('\\(.*\\)', '')\n",
    "\n",
    "\n",
    "    #Generate Regex Expression with Keywords from keywords.txt\n",
    "    with open('TXT\\keywords.txt') as f:\n",
    "        remove_strings = f.read().splitlines()\n",
    "    pattern = '|'.join(remove_strings)\n",
    "\n",
    "    # Remove all words with titles that contain keywords from keywords.txt\n",
    "    data[column] = data[column].str.replace(pattern, '', case=False)\n",
    "\n",
    "    # Remove trailing hyphens, colons and spaces\n",
    "    df[column] = df[column].str.strip()\n",
    "    data[column] = data[column].str.replace('(-|:)$','')\n",
    "    data[column] = data[column].str.replace('^The ','')\n",
    "    data[column] = data[column].str.replace('’','\\'')\n",
    "    data[column] = data[column].str.replace('The','the')\n",
    "    data[column] = data[column].str.replace('At','at')\n",
    "\n",
    "    df[column] = df[column].str.strip()\n",
    "    return data\n",
    "\n",
    "df = format_title(df, 'title')\n",
    "df.reset_index(drop=True, inplace=True)"
   ],
   "metadata": {
    "collapsed": false,
    "pycharm": {
     "name": "#%% Format Titles\n"
    }
   }
  },
  {
   "cell_type": "code",
   "execution_count": 6,
   "outputs": [],
   "source": [
    "def extract_date(data):\n",
    "    date_pattern = 'releaseDate\\\":(\\d{9,10})'\n",
    "    def format_date(x):\n",
    "        date = re.search(date_pattern, x)\n",
    "        if date:\n",
    "            return pd.to_datetime(date.group(0)[13:], unit='s').year\n",
    "        else:\n",
    "            return pd.to_datetime(0, unit='s').year\n",
    "\n",
    "    data['date'] = data['meta'].apply(format_date)\n",
    "    return data\n",
    "\n",
    "df = extract_date(df)\n",
    "\n",
    "# Delete meta since we do not need it anymore\n",
    "df = (df.drop(['meta'], axis=1)).reset_index(drop=True)"
   ],
   "metadata": {
    "collapsed": false,
    "pycharm": {
     "name": "#%% Extract date from metadata\n"
    }
   }
  },
  {
   "cell_type": "code",
   "execution_count": 7,
   "outputs": [],
   "source": [
    "def create_platform(data):\n",
    "    with open('platforms.json') as platform_file:\n",
    "        platform = json.load(platform_file)\n",
    "\n",
    "    # Create a regex pattern of all platforms to match and then return the actual platform name\n",
    "    platform_keys = list(platform.keys())\n",
    "    platform_pattern = re.compile(r\"(\\b{}\\b)\".format(\"|\".join(platform_keys)))\n",
    "\n",
    "    def platform_extract(x):\n",
    "        m = platform_pattern.match(x)\n",
    "        if m:\n",
    "            return platform[m.group(1)]\n",
    "\n",
    "    data['platform'] = data['releaseKey'].apply(platform_extract)\n",
    "    return data\n",
    "\n",
    "df = create_platform(df)"
   ],
   "metadata": {
    "collapsed": false,
    "pycharm": {
     "name": "#%% Extract Platform\n"
    }
   }
  },
  {
   "cell_type": "code",
   "execution_count": 8,
   "outputs": [],
   "source": [
    "# Convert tags to the right format\n",
    "def create_tag():\n",
    "\n",
    "    # Import tags database\n",
    "    tagdf = pd.DataFrame(read_db.import_tag(conn=read_db.open_db()), columns = ['releaseKey','tag'])\n",
    "    temp = df.merge(tagdf, how='left',left_on=['releaseKey'],right_on=['releaseKey'])\n",
    "    def correct_tag(x):\n",
    "\n",
    "        tag_correction = {\n",
    "      \"Infinite\": \"L - Infinite\",\n",
    "      \"Tried\": \"S - Tried\",\n",
    "      \"Short\": \"L - Short\",\n",
    "      \"Completed\": \"S - Completed\"\n",
    "    }\n",
    "        tag_pattern = re.compile(r\"(\\b{}\\b)\".format(\"|\".join(list(tag_correction.keys()))))\n",
    "\n",
    "        if pd.isnull(x):\n",
    "            return \"No Tag\"\n",
    "        m = tag_pattern.match(x)\n",
    "        if m:\n",
    "            return tag_correction[m.group(1)]\n",
    "        else:\n",
    "            return x\n",
    "\n",
    "    temp['tag'] = temp['tag'].apply(correct_tag)\n",
    "\n",
    "    def create_status(x):\n",
    "        pattern = re.compile(r\"S - (\\w+)\")\n",
    "        if pattern.match(x):\n",
    "            return pattern.match(x).group(1)\n",
    "        return float('nan')\n",
    "\n",
    "    def create_length(x):\n",
    "        pattern = re.compile(r\"L - (\\w+)\")\n",
    "        if pattern.match(x):\n",
    "            return pattern.match(x).group(1)\n",
    "        return float('nan')\n",
    "\n",
    "    # Create Status and Length as two separate Columns\n",
    "    temp['Status'] = temp['tag'].apply(create_status)\n",
    "    temp['Length'] = temp['tag'].apply(create_length)\n",
    "    temp.drop(['tag'], axis=1, inplace=True)\n",
    "    temp = temp.groupby('releaseKey')[['Status','Length']].first().reset_index()\n",
    "    return temp\n",
    "\n",
    "# Add the Status and Length to the main Table\n",
    "df = df.merge(create_tag(), how='left',left_on=['releaseKey'],right_on=['releaseKey'])"
   ],
   "metadata": {
    "collapsed": false,
    "pycharm": {
     "name": "#%% Extract Tags\n"
    }
   }
  },
  {
   "cell_type": "code",
   "execution_count": 9,
   "outputs": [],
   "source": [
    "def remove_duplicates(data):\n",
    "\n",
    "    # Delete rows with same title and platform\n",
    "    data = data.drop_duplicates(subset=['title','platform'], keep='first').reset_index(drop=True)\n",
    "\n",
    "    # Delete rows with same title in 'Other' Platform\n",
    "    dup = data[data.duplicated(subset=['title'], keep=False)].sort_values('title')\n",
    "    data = data.drop(dup[dup['platform'].str.match('Other')].index).reset_index(drop=True)\n",
    "    return data\n",
    "\n",
    "df = remove_duplicates(df)"
   ],
   "metadata": {
    "collapsed": false,
    "pycharm": {
     "name": "#%% Remove Duplicate Titles\n"
    }
   }
  },
  {
   "cell_type": "code",
   "execution_count": 10,
   "outputs": [],
   "source": [
    "hidden = pd.DataFrame(read_db.import_hidden(conn=read_db.open_db()), columns=['releaseKey', 'dlc', 'visible'])\n",
    "user_hidden = pd.DataFrame(read_db.import_user_hidden(conn=read_db.open_db()), columns=['releaseKey', 'hidden'])\n",
    "\n",
    "# Remove games marked as DLC or hidden\n",
    "def remove_hidden(x, data):\n",
    "    return data[~data['releaseKey'].isin(x)]\n",
    "\n",
    "df = remove_hidden(hidden.loc[(hidden['dlc'] == 1) | (hidden['visible'] == 0), 'releaseKey'], df)\n",
    "df = remove_hidden(df.loc[~df['releaseKey'].isin(user_hidden['releaseKey']), 'releaseKey'], df)\n",
    "df = remove_hidden(user_hidden.loc[user_hidden['hidden'] == 1, 'releaseKey'], df)\n",
    "df.reset_index(drop=True, inplace=True)\n",
    "\n",
    "# Remove games manually hidden by reading from hidden.txt\n",
    "def remove_manually_hidden(data):\n",
    "    with open('TXT\\hidden.txt') as f:\n",
    "        hidden_games = f.read().splitlines()\n",
    "    data = data[~data['releaseKey'].isin(hidden_games)]\n",
    "    return data\n",
    "\n",
    "df = remove_manually_hidden(df)\n",
    "df.reset_index(drop=True, inplace=True)"
   ],
   "metadata": {
    "collapsed": false,
    "pycharm": {
     "name": "#%% Remove Hidden Games\n"
    }
   }
  },
  {
   "cell_type": "code",
   "execution_count": 11,
   "outputs": [],
   "source": [
    "# Import Xbox gamepass from Masterlist Google sheet and convert to dataframe\n",
    "xdf = xbox_spreadsheet.import_xbox_gsheet()\n",
    "\n",
    "def format_xbox(data):\n",
    "    data = pd.DataFrame(data[0], columns=data[1]).reset_index(drop=True)\n",
    "\n",
    "    # Remove the header and make the first row as header\n",
    "    new_header = data.iloc[0]\n",
    "    data = data[1:]\n",
    "    data.columns = new_header\n",
    "    data.reset_index(drop=True, inplace=True)\n",
    "\n",
    "    # Remove Xbox Games and unnecessary columns from the list\n",
    "    data = data.drop(['Metacritic', 'Genre (Giantbomb)', 'Completion', 'Age', 'Release', 'Months'], axis=1).reset_index(\n",
    "        drop=True)\n",
    "    data = data[~(data['System'] == 'Xbox One')]\n",
    "    data = data.drop(['System'], axis=1).reset_index(drop=True)\n",
    "\n",
    "    return data\n",
    "\n",
    "xdf = format_xbox(xdf)"
   ],
   "metadata": {
    "collapsed": false,
    "pycharm": {
     "name": "#%% Import Xbox Gamepass details\n"
    }
   }
  },
  {
   "cell_type": "code",
   "execution_count": 12,
   "outputs": [],
   "source": [
    "df = df.rename(columns={\"title\": \"Title\", \"date\": \"Release\", \"platform\": \"Platform\"})\n",
    "xdf = xdf.rename(columns={\"Game\": \"Title\"})\n",
    "df.reset_index(drop = True, inplace = True)\n",
    "xdf.reset_index(drop = True, inplace = True)\n",
    "\n",
    "# Format Xbox Gamepass List Titles\n",
    "xdf = format_title(xdf,'Title')"
   ],
   "metadata": {
    "collapsed": false,
    "pycharm": {
     "name": "#%% Rename Columns\n"
    }
   }
  },
  {
   "cell_type": "code",
   "execution_count": 13,
   "outputs": [],
   "source": [
    "def remove_xboxgamepass(data, xdata):\n",
    "    temp = data.loc[df['Platform'] == 'Xbox Gamepass'].copy()\n",
    "    xtemp = xdata.loc[xdf['Status'].str.match(r'Active|Leaving Soon')].copy()\n",
    "\n",
    "    # Temporarily remove special characters and convert to lowercase for comparison\n",
    "    def temp_format_xbox(x):\n",
    "        x = x.lower()\n",
    "        x = re.sub('(\\w+\\s+edition)', '', x)\n",
    "        x = re.sub('[^A-Za-z0-9]+', '', x)\n",
    "        x = re.sub('iii', '3', x)\n",
    "        x = re.sub('ii', '2', x)\n",
    "        x = re.sub('adeventure', 'adventure', x)\n",
    "        x = x.strip()\n",
    "        return x\n",
    "\n",
    "    temp.loc[:,'Title'] = temp['Title'].apply(temp_format_xbox)\n",
    "    xtemp.loc[:,'Title'] = xtemp['Title'].apply(temp_format_xbox)\n",
    "\n",
    "    # Fetch index of all the games in main database but not in Xbox Gamepass list and delete them\n",
    "    out = temp[~temp['Title'].isin(xtemp['Title'])].index\n",
    "    data.drop(out, inplace=True)\n",
    "    data.reset_index(drop=True, inplace=True)\n",
    "    return data\n",
    "\n",
    "df = remove_xboxgamepass(df, xdf)"
   ],
   "metadata": {
    "collapsed": false,
    "pycharm": {
     "name": "#%% Remove Xbox Gamepass games that have left or yet to be released\n"
    }
   }
  },
  {
   "cell_type": "code",
   "execution_count": 14,
   "outputs": [],
   "source": [
    "def import_origin():\n",
    "    basic, premiere = origin_parse.origin_games()\n",
    "    data = pd.DataFrame(basic, columns = ['Title','Subscription'])\n",
    "    data = data.append(pd.DataFrame(premiere, columns = data.columns))\n",
    "    data = data.sort_values('Title').reset_index(drop=True)\n",
    "    return data\n",
    "\n",
    "odf = import_origin()"
   ],
   "metadata": {
    "collapsed": false,
    "pycharm": {
     "name": "#%% Import Origin Access List by scraping\n"
    }
   }
  },
  {
   "cell_type": "code",
   "execution_count": 15,
   "outputs": [],
   "source": [
    "def group_platform(data):\n",
    "    temp = data.groupby('Title').agg({'Platform':'; '.join})\n",
    "    data = data.merge(temp, how='inner',left_on=['Title'],right_on=['Title'])\n",
    "    data = data.drop('Platform_x', axis=1)\n",
    "    data = data.drop_duplicates(subset=['Title', 'Platform_y'], keep='last')\n",
    "    data = data.reset_index(drop=True)\n",
    "    data = data.rename(columns={\"Platform_y\": \"Platform\"})\n",
    "    return data\n",
    "\n",
    "df = group_platform(df)"
   ],
   "metadata": {
    "collapsed": false,
    "pycharm": {
     "name": "#%% Group games owned on multiple platforms into one\n"
    }
   }
  },
  {
   "cell_type": "code",
   "execution_count": 16,
   "outputs": [],
   "source": [
    "def manual_tagging(data):\n",
    "    with open('TXT/tag.txt') as f:\n",
    "        row = f.read().split('\\n')\n",
    "        for i in row:\n",
    "            col = i.split(',')\n",
    "            data.loc[data['Title'].str.contains(col[0]), 'Length'] = col[1]\n",
    "            data.loc[data['Title'].str.contains(col[0]), 'Status'] = col[2]\n",
    "    return data\n",
    "\n",
    "df = manual_tagging(df)"
   ],
   "metadata": {
    "collapsed": false,
    "pycharm": {
     "name": "#%% Tag Games which don't have tag manually by reading from tag.txt\n"
    }
   }
  },
  {
   "cell_type": "code",
   "execution_count": 17,
   "outputs": [],
   "source": [
    "os.chdir('../excel')\n",
    "dbase_dict = {'Games':df, 'Xbox Gamepass':xdf, 'Origin Access':odf}\n",
    "\n",
    "def write_excel(data_dict):\n",
    "    filename = 'Games.xlsx'\n",
    "    writer = pd.ExcelWriter(filename, engine='xlsxwriter')\n",
    "    for sheetname, db in data_dict.items():  # loop through `dict` of dataframes\n",
    "        db.to_excel(writer, sheet_name=sheetname, index=False)  # send df to writer\n",
    "        worksheet = writer.sheets[sheetname]  # pull worksheet object\n",
    "        for idx, col in enumerate(db):  # loop through all columns\n",
    "            series = db[col]\n",
    "            max_len = max((\n",
    "                series.astype(str).map(len).max(),  # len of largest item\n",
    "                len(str(series.name))  # len of column name/header\n",
    "                )) + 1  # adding a little extra space\n",
    "            worksheet.set_column(idx, idx, max_len)  # set column width\n",
    "    writer.save()\n",
    "\n",
    "write_excel(dbase_dict)"
   ],
   "metadata": {
    "collapsed": false,
    "pycharm": {
     "name": "#%% Write final output to excel\n"
    }
   }
  }
 ],
 "metadata": {
  "kernelspec": {
   "display_name": "Python 3",
   "language": "python",
   "name": "python3"
  },
  "language_info": {
   "codemirror_mode": {
    "name": "ipython",
    "version": 2
   },
   "file_extension": ".py",
   "mimetype": "text/x-python",
   "name": "python",
   "nbconvert_exporter": "python",
   "pygments_lexer": "ipython2",
   "version": "2.7.6"
  }
 },
 "nbformat": 4,
 "nbformat_minor": 0
}
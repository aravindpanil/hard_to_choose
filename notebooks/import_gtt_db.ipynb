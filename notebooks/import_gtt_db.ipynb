{
 "cells": [
  {
   "cell_type": "code",
   "execution_count": 1,
   "metadata": {
    "collapsed": true
   },
   "outputs": [
    {
     "data": {
      "text/plain": "                                            Title         Runtime\n0                     The Elder Scrolls V: Skyrim  18949800000000\n1                                         FIFA 18  13970400000000\n2                           Football Manager 2017  10980000000000\n3                                         FIFA 16   8568000000000\n4                                         FIFA 15   8136000000000\n..                                            ...             ...\n105                                Shadow Warrior     46063704108\n106                               Forza Horizon 4   1020974986892\n107  Ori and the Blind Forest: Definitive Edition    220316615776\n108                                Slay the Spire     88139138625\n109                                     A Way Out     63930861578\n\n[110 rows x 2 columns]",
      "text/html": "<div>\n<style scoped>\n    .dataframe tbody tr th:only-of-type {\n        vertical-align: middle;\n    }\n\n    .dataframe tbody tr th {\n        vertical-align: top;\n    }\n\n    .dataframe thead th {\n        text-align: right;\n    }\n</style>\n<table border=\"1\" class=\"dataframe\">\n  <thead>\n    <tr style=\"text-align: right;\">\n      <th></th>\n      <th>Title</th>\n      <th>Runtime</th>\n    </tr>\n  </thead>\n  <tbody>\n    <tr>\n      <th>0</th>\n      <td>The Elder Scrolls V: Skyrim</td>\n      <td>18949800000000</td>\n    </tr>\n    <tr>\n      <th>1</th>\n      <td>FIFA 18</td>\n      <td>13970400000000</td>\n    </tr>\n    <tr>\n      <th>2</th>\n      <td>Football Manager 2017</td>\n      <td>10980000000000</td>\n    </tr>\n    <tr>\n      <th>3</th>\n      <td>FIFA 16</td>\n      <td>8568000000000</td>\n    </tr>\n    <tr>\n      <th>4</th>\n      <td>FIFA 15</td>\n      <td>8136000000000</td>\n    </tr>\n    <tr>\n      <th>...</th>\n      <td>...</td>\n      <td>...</td>\n    </tr>\n    <tr>\n      <th>105</th>\n      <td>Shadow Warrior</td>\n      <td>46063704108</td>\n    </tr>\n    <tr>\n      <th>106</th>\n      <td>Forza Horizon 4</td>\n      <td>1020974986892</td>\n    </tr>\n    <tr>\n      <th>107</th>\n      <td>Ori and the Blind Forest: Definitive Edition</td>\n      <td>220316615776</td>\n    </tr>\n    <tr>\n      <th>108</th>\n      <td>Slay the Spire</td>\n      <td>88139138625</td>\n    </tr>\n    <tr>\n      <th>109</th>\n      <td>A Way Out</td>\n      <td>63930861578</td>\n    </tr>\n  </tbody>\n</table>\n<p>110 rows × 2 columns</p>\n</div>"
     },
     "execution_count": 1,
     "metadata": {},
     "output_type": "execute_result"
    }
   ],
   "source": [
    "import pandas as pd\n",
    "import os\n",
    "os.chdir('D:\\Projects\\hard_to_choose\\src')\n",
    "\n",
    "import read_db\n",
    "\n",
    "df = pd.DataFrame(read_db.import_gtt(conn=read_db.open_gttdb()), columns=['Title', 'Runtime'])\n",
    "df\n",
    "\n"
   ]
  }
 ],
 "metadata": {
  "kernelspec": {
   "display_name": "Python 3",
   "language": "python",
   "name": "python3"
  },
  "language_info": {
   "codemirror_mode": {
    "name": "ipython",
    "version": 2
   },
   "file_extension": ".py",
   "mimetype": "text/x-python",
   "name": "python",
   "nbconvert_exporter": "python",
   "pygments_lexer": "ipython2",
   "version": "2.7.6"
  }
 },
 "nbformat": 4,
 "nbformat_minor": 0
}
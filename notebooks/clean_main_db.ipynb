{
 "cells": [
  {
   "cell_type": "code",
   "execution_count": 19,
   "metadata": {
    "collapsed": true,
    "pycharm": {
     "name": "#%% import statements\n"
    }
   },
   "outputs": [
    {
     "data": {
      "text/plain": "'D:\\\\Projects\\\\hard_to_choose'"
     },
     "execution_count": 19,
     "metadata": {},
     "output_type": "execute_result"
    }
   ],
   "source": [
    "import sqlite3\n",
    "import pandas as pd\n",
    "import numpy as np\n",
    "import global_imports\n",
    "from src import xbox_spreadsheet, origin_parse\n",
    "import re\n",
    "import json\n",
    "\n",
    "# Not necessary in a py file as jupyter does not set the path correctly\n",
    "import os\n",
    "if os.getcwd().split('\\\\')[-1] != global_imports.root_folder:\n",
    "    os.chdir(global_imports.root_folder)\n",
    "os.getcwd()"
   ]
  },
  {
   "cell_type": "code",
   "execution_count": 20,
   "outputs": [],
   "source": [
    "def import_database_from_sql(sql_query,db_path):\n",
    "    connector = sqlite3.connect(db_path)\n",
    "    db = pd.read_sql(sql_query, connector)\n",
    "    return db\n",
    "\n",
    "game_piece_type_query = 'SELECT * FROM GamePieceTypes'\n",
    "game_piece_type = import_database_from_sql(game_piece_type_query, global_imports.main_db_path)\n",
    "\n",
    "main_db_query = \"\"\"SELECT GamePieces.releaseKey, GamePieces.gamePieceTypeId, GamePieces.value\n",
    "    FROM GameLinks\n",
    "\tJOIN GamePieces ON GameLinks.releaseKey = GamePieces.releaseKey\"\"\"\n",
    "main_db = import_database_from_sql(main_db_query, global_imports.main_db_path)"
   ],
   "metadata": {
    "collapsed": false,
    "pycharm": {
     "name": "#%% import main_db and datatype db for mapping the data to extract from main_db\n"
    }
   }
  },
  {
   "cell_type": "code",
   "execution_count": 21,
   "outputs": [],
   "source": [
    "#Add any metadata needed to this list. Valid values are type names\n",
    "# from GamePieceTypes\n",
    "column_names = ['title', 'meta']\n",
    "\n",
    "def split_metadata_into_columns(column_list, db):\n",
    "    \"\"\"Splits metadata of the main_db into different rows. Arguments are a list of column_names\n",
    "    and the dataframe\"\"\"\n",
    "\n",
    "# Creates columns for each item in column_list\n",
    "    for val in column_list:\n",
    "        type_id = int(game_piece_type.loc[game_piece_type['type'] == val, 'id'])\n",
    "        db[val] = db.loc[db['gamePieceTypeId'] == type_id, 'value']\n",
    "\n",
    "# Drop rows that are null in all of the generated columns. This will remove every row that\n",
    "# is not in column_list\n",
    "    db = db.dropna(subset=column_list, how='all')\n",
    "\n",
    "# Drop every other row we do not need anymore\n",
    "    db = db.drop(['value','gamePieceTypeId'], axis=1)\n",
    "\n",
    "# Group by releaseKey since the data is in its own rows. Fill row with NAN if every row is NAN\n",
    "    db = db.groupby('releaseKey', as_index=True).agg(lambda x: np.nan if x.isnull().all()\n",
    "    else x.dropna()).reset_index()\n",
    "    db = db.set_index(np.arange(0, len(db)))\n",
    "    return db\n",
    "\n",
    "\n",
    "main_db = split_metadata_into_columns(column_names, main_db)"
   ],
   "metadata": {
    "collapsed": false,
    "pycharm": {
     "name": "#%%\n"
    }
   }
  },
  {
   "cell_type": "code",
   "execution_count": 22,
   "outputs": [],
   "source": [
    "def extract_date(db):\n",
    "    \"\"\"Extract Release Date from metadata and convert it into MM YYYY format\"\"\"\n",
    "\n",
    "    date_pattern = 'releaseDate\\\":(\\d{9,10})'\n",
    "    def format_date(x):\n",
    "        date = re.search(date_pattern, x)\n",
    "        if date:\n",
    "            val = pd.to_datetime(date.group(1), unit='s')\n",
    "            val = val.strftime('%Y %b')\n",
    "            return val\n",
    "        else:\n",
    "            return 'No Date'\n",
    "\n",
    "    db['date'] = db['meta'].apply(format_date)\n",
    "    db = db.drop('meta', axis=1)\n",
    "    return db\n",
    "\n",
    "main_db = extract_date(main_db)"
   ],
   "metadata": {
    "collapsed": false,
    "pycharm": {
     "name": "#%% Extract Relevant Information from metadata\n"
    }
   }
  },
  {
   "cell_type": "code",
   "execution_count": 23,
   "outputs": [],
   "source": [
    "def create_platform(db):\n",
    "    with open(global_imports.platforms_json) as platform_file:\n",
    "        platform = json.load(platform_file)\n",
    "\n",
    "    # Create a regex pattern of all platforms to match and then return the actual platform name\n",
    "    platform_keys = list(platform.keys())\n",
    "    platform_pattern = re.compile(r\"(\\b{}\\b)\".format(\"|\".join(platform_keys)))\n",
    "\n",
    "    def platform_extract(x):\n",
    "        m = platform_pattern.match(x)\n",
    "        if m:\n",
    "            return platform[m.group(1)]\n",
    "\n",
    "    db['platform'] = db['releaseKey'].apply(platform_extract)\n",
    "    return db\n",
    "\n",
    "main_db = create_platform(main_db)"
   ],
   "metadata": {
    "collapsed": false,
    "pycharm": {
     "name": "#%% Create Platform Column by extracting from releaseKey\n"
    }
   }
  },
  {
   "cell_type": "code",
   "execution_count": 24,
   "outputs": [],
   "source": [
    "def remove_hidden_games_by_gog(db):\n",
    "    hidden_db_query = 'SELECT releaseKey, isDlc, isVisibleInLibrary FROM ReleaseProperties'\n",
    "    hidden_db = import_database_from_sql(hidden_db_query, global_imports.main_db_path)\n",
    "\n",
    "    # Delete everything marked as DLC or not visible in library\n",
    "    db = db[~db['releaseKey'].isin(hidden_db.loc[hidden_db['isVisibleInLibrary'] == 0, 'releaseKey'])]\n",
    "    db = db[~db['releaseKey'].isin(hidden_db.loc[hidden_db['isDlc'] == 1, 'releaseKey'])]\n",
    "    return db\n",
    "\n",
    "main_db = remove_hidden_games_by_gog(main_db)"
   ],
   "metadata": {
    "collapsed": false,
    "pycharm": {
     "name": "#%% Remove games marked as DLC and hidden by GOG\n"
    }
   }
  },
  {
   "cell_type": "code",
   "execution_count": 25,
   "outputs": [],
   "source": [
    "def remove_manual_hidden_games_by_user(db):\n",
    "    user_hidden_db_query = 'SELECT releaseKey, isHidden FROM UserReleaseProperties'\n",
    "    user_hidden_db = import_database_from_sql(user_hidden_db_query, global_imports.main_db_path)\n",
    "\n",
    "    # Remove games in main_db but not in user_hidden_db as these were never owned\n",
    "    db = db.drop(db[~db['releaseKey'].isin(user_hidden_db['releaseKey'])].index)\n",
    "    db = db[~db['releaseKey'].isin(user_hidden_db.loc[user_hidden_db['isHidden'] == 1, 'releaseKey'])]\n",
    "    db = db.reset_index(drop=True)\n",
    "    return db\n",
    "\n",
    "main_db = remove_manual_hidden_games_by_user(main_db)"
   ],
   "metadata": {
    "collapsed": false,
    "pycharm": {
     "name": "#%% Remove games marked as DLC and hidden by user\n"
    }
   }
  },
  {
   "cell_type": "code",
   "execution_count": 26,
   "outputs": [],
   "source": [
    "# Remove brackets and quotes around titlee\n",
    "main_db['title'] = main_db['title'].apply(lambda x: x[10:-2])\n",
    "\n",
    "def format_titles(db, column):\n",
    "\n",
    "    \"\"\"Format Title by removing special and unicode characters like trademark\"\"\"\n",
    "\n",
    "    # Remove Trademark and Copyright Symbols\n",
    "    db[column] = db[column].str.replace('\\u2122|\\u00AE','')\n",
    "\n",
    "    # Remove Windows, Windows 10 and any word before it. for Windows 10, - Windows 10 would be removed\n",
    "    db[column] = db[column].str.replace('\\S+ Windows(?: 10)?', '')\n",
    "\n",
    "    # Remove special apostrophe\n",
    "    db[column] = db[column].str.replace('’', '')\n",
    "\n",
    "    # Make any game with The in the middle of the sentence lower case\n",
    "    db[column] = db[column].str.replace('\\sthe\\s', ' the ', flags=re.IGNORECASE)\n",
    "\n",
    "    # Remove the at the beginning of the word\n",
    "    db[column] = db[column].str.replace('^The\\s', '')\n",
    "\n",
    "    # Make any game with at in the middle of the sentence lower case\n",
    "    db[column] = db[column].str.replace('\\sat\\s', ' at ', flags=re.IGNORECASE)\n",
    "    db[column] = db[column].str.strip()\n",
    "\n",
    "    return db\n",
    "\n",
    "main_db = format_titles(main_db, 'title')"
   ],
   "metadata": {
    "collapsed": false,
    "pycharm": {
     "name": "#%% Format Titles\n"
    }
   }
  },
  {
   "cell_type": "code",
   "source": [
    "def remove_duplicates(db):\n",
    "\n",
    "    # Delete rows with same title and platform\n",
    "    db = db.drop_duplicates(subset=['title','platform'], keep='last').reset_index(drop=True)\n",
    "\n",
    "    # Delete rows with same title in 'Other' Platform\n",
    "    dup = db[db.duplicated(subset=['title'], keep=False)].sort_values('title')\n",
    "    db = db.drop(dup[dup['platform'].str.match('Other')].index).reset_index(drop=True)\n",
    "    db = db[~db['title'].str.contains('trial$',flags=re.IGNORECASE)]\n",
    "    return db\n",
    "main_db = remove_duplicates(main_db)"
   ],
   "metadata": {
    "collapsed": false,
    "pycharm": {
     "name": "#%% Remove duplicates which have same title and platform\n"
    }
   },
   "execution_count": 27,
   "outputs": []
  },
  {
   "cell_type": "code",
   "execution_count": 28,
   "outputs": [],
   "source": [
    "def create_tag(db):\n",
    "\n",
    "    # Import tags database\n",
    "    tag_db_query = 'SELECT releaseKey, tag FROM UserReleaseTags'\n",
    "    tag_db = import_database_from_sql(tag_db_query, global_imports.main_db_path)\n",
    "    temp = db.merge(tag_db, how='left',left_on=['releaseKey'],right_on=['releaseKey'])\n",
    "\n",
    "    def create_status(x):\n",
    "        pattern = re.compile(r\"S - (\\w+)\")\n",
    "        if pattern.match(x):\n",
    "            return pattern.match(x).group(1)\n",
    "        return np.nan\n",
    "\n",
    "    def create_length(x):\n",
    "        pattern = re.compile(r\"L - (\\w+)\")\n",
    "        if pattern.match(x):\n",
    "            return pattern.match(x).group(1)\n",
    "        return np.nan\n",
    "\n",
    "    # Create Status and Length as two separate Columns\n",
    "    temp['tag'] = temp['tag'].fillna('No tag')\n",
    "    temp['Status'] = temp['tag'].apply(create_status)\n",
    "    temp['Length'] = temp['tag'].apply(create_length)\n",
    "    temp.drop(['tag'], axis=1, inplace=True)\n",
    "    temp = temp.groupby('releaseKey')[['Status','Length']].first().reset_index()\n",
    "    db = db.merge(temp, how='left', on='releaseKey')\n",
    "    return db\n",
    "\n",
    "# Add the Status and Length to the main Table\n",
    "main_db = create_tag(main_db)"
   ],
   "metadata": {
    "collapsed": false,
    "pycharm": {
     "name": "#%% Create Tag\n"
    }
   }
  },
  {
   "cell_type": "code",
   "source": [
    "def format_xbox(db):\n",
    "    db = pd.DataFrame(db[0], columns=db[1]).reset_index(drop=True)\n",
    "\n",
    "    # Remove the header and make the first row as header\n",
    "    new_header = db.iloc[0]\n",
    "    db = db[1:]\n",
    "    db.columns = new_header\n",
    "    db.reset_index(drop=True, inplace=True)\n",
    "\n",
    "    # Remove Xbox Games and unnecessary columns from the list\n",
    "    db = db.drop(['Metacritic', 'Genre (Giantbomb)', 'Completion', 'Age', 'Release', 'Months'], axis=1).reset_index(\n",
    "        drop=True)\n",
    "    db = db[~(db['System'] == 'Xbox One')]\n",
    "    db = db.drop(['System'], axis=1).reset_index(drop=True)\n",
    "    return db\n",
    "\n",
    "xbox_db = format_xbox(xbox_spreadsheet.import_xbox_gsheet())\n",
    "xbox_db = format_titles(xbox_db, 'Game')"
   ],
   "metadata": {
    "collapsed": false,
    "pycharm": {
     "name": "#%% Import Xbox Gamepass Databasse\n"
    }
   },
   "execution_count": 29,
   "outputs": []
  },
  {
   "cell_type": "code",
   "execution_count": 30,
   "outputs": [],
   "source": [
    "def remove_xboxgamepass(db, xdb):\n",
    "    temp = db.loc[db['platform'] == 'Xbox Gamepass'].copy()\n",
    "    xtemp = xdb.loc[xdb['Status'].str.match(r'Active|Leaving Soon')].copy()\n",
    "\n",
    "    # Temporarily remove special characters and convert to lowercase for comparison\n",
    "    def temp_format_xbox(x):\n",
    "        x = x.lower()\n",
    "        x = re.sub('\\s\\(.*\\)', '', x)\n",
    "        x = re.sub('\\'', '', x)\n",
    "        x = re.sub(': (\\w+\\sedition)', '', x)\n",
    "        x = re.sub(': (\\w+\\scut)', '', x)\n",
    "        x = re.sub(' iii', '3', x)\n",
    "        x = re.sub(' ii', '2', x)\n",
    "        x = re.sub(' iv', '4', x)\n",
    "        x = re.sub(' ix', '9', x)\n",
    "        x = re.sub(' xv', '15', x)\n",
    "        x = re.sub('[^A-Za-z0-9]+', '', x)\n",
    "        return x\n",
    "\n",
    "    temp.loc[:, 'title'] = temp['title'].apply(temp_format_xbox)\n",
    "    xtemp.loc[:, 'Game'] = xtemp['Game'].apply(temp_format_xbox)\n",
    "\n",
    "    # Fetch index of all the games in main but not in Xbox Gamepass list and delete them\n",
    "    out = temp[~temp['title'].isin(xtemp['Game'])].index\n",
    "    db.drop(out, inplace=True)\n",
    "    db.reset_index(drop=True, inplace=True)\n",
    "    return db\n",
    "\n",
    "main_db = remove_xboxgamepass(main_db, xbox_db)"
   ],
   "metadata": {
    "collapsed": false,
    "pycharm": {
     "name": "#%% Remove games not in XboX Gamepass. Some games removed from GP is still in main_db\n"
    }
   }
  },
  {
   "cell_type": "code",
   "execution_count": 31,
   "outputs": [],
   "source": [
    "def import_origin():\n",
    "    basic, premiere = origin_parse.origin_games()\n",
    "    data = pd.DataFrame(basic, columns=['Title', 'Subscription'])\n",
    "    data = data.append(pd.DataFrame(premiere, columns=data.columns))\n",
    "    data = data.sort_values('Title').reset_index(drop=True)\n",
    "    return data\n",
    "\n",
    "origin_db = import_origin()"
   ],
   "metadata": {
    "collapsed": false,
    "pycharm": {
     "name": "#%% Import Origin Access Database\n"
    }
   }
  },
  {
   "cell_type": "code",
   "execution_count": 32,
   "outputs": [],
   "source": [
    "main_db = main_db.rename(columns={\"title\": \"Title\", \"date\": \"Release\", \"platform\": \"Platform\"})\n",
    "xbox_db = xbox_db.rename(columns={\"Game\": \"Title\"})\n",
    "main_db.reset_index(drop = True, inplace = True)\n",
    "xbox_db.reset_index(drop = True, inplace = True)"
   ],
   "metadata": {
    "collapsed": false,
    "pycharm": {
     "name": "#%% Rename Columns\n"
    }
   }
  },
  {
   "cell_type": "code",
   "execution_count": 33,
   "outputs": [],
   "source": [
    "def group_platform(db):\n",
    "    temp = db.groupby('Title').agg({'Platform':'; '.join})\n",
    "    db = db.merge(temp, how='inner',left_on=['Title'],right_on=['Title'])\n",
    "    db = db.drop('Platform_x', axis=1)\n",
    "    db = db.drop_duplicates(subset=['Title', 'Platform_y'], keep='last')\n",
    "    db = db.reset_index(drop=True)\n",
    "    db = db.rename(columns={\"Platform_y\": \"Platform\"})\n",
    "    return db\n",
    "\n",
    "main_db = group_platform(main_db)"
   ],
   "metadata": {
    "collapsed": false,
    "pycharm": {
     "name": "#%% Group Platforms\n"
    }
   }
  },
  {
   "cell_type": "code",
   "execution_count": 34,
   "outputs": [],
   "source": [
    "def manual_tagging(db):\n",
    "    with open('data/tag.txt') as f:\n",
    "        row = f.read().split('\\n')\n",
    "        for i in row:\n",
    "            col = i.split(',')\n",
    "            db.loc[db['Title'].str.contains(col[0]), 'Length'] = col[1]\n",
    "            db.loc[db['Title'].str.contains(col[0]), 'Status'] = col[2]\n",
    "    return db\n",
    "\n",
    "main_db = manual_tagging(main_db).reset_index(drop=True)\n",
    "\n",
    "# Sort values by Title ignoring case\n",
    "main_db['Upper'] = main_db['Title'].str.upper()\n",
    "main_db.sort_values(by='Upper', inplace=True)\n",
    "del main_db['Upper']"
   ],
   "metadata": {
    "collapsed": false,
    "pycharm": {
     "name": "#%% Manually tag games where tags are glitched\n"
    }
   }
  },
  {
   "cell_type": "code",
   "execution_count": 35,
   "outputs": [],
   "source": [
    "os.chdir('excel')\n",
    "dbase_dict = {'Games': main_db, 'Xbox Gamepass': xbox_db, 'Origin Access': origin_db}\n",
    "\n",
    "def write_excel(data_dict):\n",
    "    filename = 'Games.xlsx'\n",
    "    writer = pd.ExcelWriter(filename, engine='xlsxwriter')\n",
    "    for sheetname, db in data_dict.items():  # loop through `dict` of dataframes\n",
    "        db.to_excel(writer, sheet_name=sheetname, index=False)  # send df to writer\n",
    "        worksheet = writer.sheets[sheetname]  # pull worksheet object\n",
    "        for idx, col in enumerate(db):  # loop through all columns\n",
    "            series = db[col]\n",
    "            max_len = max((\n",
    "                series.astype(str).map(len).max(),  # len of largest item\n",
    "                len(str(series.name))  # len of column name/header\n",
    "            )) + 1  # adding a little extra space\n",
    "            worksheet.set_column(idx, idx, max_len)  # set column width\n",
    "    writer.save()\n",
    "\n",
    "write_excel(dbase_dict)\n",
    "\n",
    "# Change Directory back to root\n",
    "os.chdir('..')"
   ],
   "metadata": {
    "collapsed": false,
    "pycharm": {
     "name": "#%% Write final output to excel\n"
    }
   }
  },
  {
   "cell_type": "code",
   "execution_count": 36,
   "outputs": [
    {
     "data": {
      "text/plain": "                       releaseKey                                   Title  \\\n0              xboxone_1686368600                A Plague Tale: Innocence   \n1    origin_Origin.OFR.50.0002490                               A Way Out   \n2              xboxone_1755599316     Age of Empires (Definitive Edition)   \n3              xboxone_2064168993   Age of Empires 2 (Definitive Edition)   \n4              xboxone_1777571402              Age of Wonders: Planetfall   \n..                            ...                                     ...   \n497            xboxone_1917938753                                Yakuza 0   \n498            xboxone_1636871347                           Yakuza Kiwami   \n499            xboxone_1910853412                   Yoku's Island Express   \n500  origin_Origin.OFR.50.0003735                            Yooka-Laylee   \n501              xboxone_33936946  Zoo Tycoon: Ultimate Animal Collection   \n\n      Release   Status    Length                        Platform  \\\n0    2019 May  Backlog     Short  Origin Premiere; Xbox Gamepass   \n1    2018 Mar  Playing  Infinite                 Origin Premiere   \n2    2018 Feb  Backlog  Infinite                   Xbox Gamepass   \n3    2019 Nov  Backlog  Infinite                   Xbox Gamepass   \n4    2019 Aug  Backlog  Infinite                   Xbox Gamepass   \n..        ...      ...       ...                             ...   \n497  2015 Mar    Tried      Long            Steam; Xbox Gamepass   \n498  2016 Jan  Backlog      Long                   Xbox Gamepass   \n499  2018 May  Backlog     Short  Origin Premiere; Xbox Gamepass   \n500  2017 Apr  Backlog     Short                 Origin Premiere   \n501  2017 Oct  Backlog  Infinite                   Xbox Gamepass   \n\n           GameplayTime  \n0                     0  \n1    1 Hours 46 Minutes  \n2                     0  \n3                     0  \n4                     0  \n..                  ...  \n497  4 Hours 57 Minutes  \n498                   0  \n499                   0  \n500                   0  \n501                   0  \n\n[502 rows x 7 columns]",
      "text/html": "<div>\n<style scoped>\n    .dataframe tbody tr th:only-of-type {\n        vertical-align: middle;\n    }\n\n    .dataframe tbody tr th {\n        vertical-align: top;\n    }\n\n    .dataframe thead th {\n        text-align: right;\n    }\n</style>\n<table border=\"1\" class=\"dataframe\">\n  <thead>\n    <tr style=\"text-align: right;\">\n      <th></th>\n      <th>releaseKey</th>\n      <th>Title</th>\n      <th>Release</th>\n      <th>Status</th>\n      <th>Length</th>\n      <th>Platform</th>\n      <th>GameplayTime</th>\n    </tr>\n  </thead>\n  <tbody>\n    <tr>\n      <th>0</th>\n      <td>xboxone_1686368600</td>\n      <td>A Plague Tale: Innocence</td>\n      <td>2019 May</td>\n      <td>Backlog</td>\n      <td>Short</td>\n      <td>Origin Premiere; Xbox Gamepass</td>\n      <td>0</td>\n    </tr>\n    <tr>\n      <th>1</th>\n      <td>origin_Origin.OFR.50.0002490</td>\n      <td>A Way Out</td>\n      <td>2018 Mar</td>\n      <td>Playing</td>\n      <td>Infinite</td>\n      <td>Origin Premiere</td>\n      <td>1 Hours 46 Minutes</td>\n    </tr>\n    <tr>\n      <th>2</th>\n      <td>xboxone_1755599316</td>\n      <td>Age of Empires (Definitive Edition)</td>\n      <td>2018 Feb</td>\n      <td>Backlog</td>\n      <td>Infinite</td>\n      <td>Xbox Gamepass</td>\n      <td>0</td>\n    </tr>\n    <tr>\n      <th>3</th>\n      <td>xboxone_2064168993</td>\n      <td>Age of Empires 2 (Definitive Edition)</td>\n      <td>2019 Nov</td>\n      <td>Backlog</td>\n      <td>Infinite</td>\n      <td>Xbox Gamepass</td>\n      <td>0</td>\n    </tr>\n    <tr>\n      <th>4</th>\n      <td>xboxone_1777571402</td>\n      <td>Age of Wonders: Planetfall</td>\n      <td>2019 Aug</td>\n      <td>Backlog</td>\n      <td>Infinite</td>\n      <td>Xbox Gamepass</td>\n      <td>0</td>\n    </tr>\n    <tr>\n      <th>...</th>\n      <td>...</td>\n      <td>...</td>\n      <td>...</td>\n      <td>...</td>\n      <td>...</td>\n      <td>...</td>\n      <td>...</td>\n    </tr>\n    <tr>\n      <th>497</th>\n      <td>xboxone_1917938753</td>\n      <td>Yakuza 0</td>\n      <td>2015 Mar</td>\n      <td>Tried</td>\n      <td>Long</td>\n      <td>Steam; Xbox Gamepass</td>\n      <td>4 Hours 57 Minutes</td>\n    </tr>\n    <tr>\n      <th>498</th>\n      <td>xboxone_1636871347</td>\n      <td>Yakuza Kiwami</td>\n      <td>2016 Jan</td>\n      <td>Backlog</td>\n      <td>Long</td>\n      <td>Xbox Gamepass</td>\n      <td>0</td>\n    </tr>\n    <tr>\n      <th>499</th>\n      <td>xboxone_1910853412</td>\n      <td>Yoku's Island Express</td>\n      <td>2018 May</td>\n      <td>Backlog</td>\n      <td>Short</td>\n      <td>Origin Premiere; Xbox Gamepass</td>\n      <td>0</td>\n    </tr>\n    <tr>\n      <th>500</th>\n      <td>origin_Origin.OFR.50.0003735</td>\n      <td>Yooka-Laylee</td>\n      <td>2017 Apr</td>\n      <td>Backlog</td>\n      <td>Short</td>\n      <td>Origin Premiere</td>\n      <td>0</td>\n    </tr>\n    <tr>\n      <th>501</th>\n      <td>xboxone_33936946</td>\n      <td>Zoo Tycoon: Ultimate Animal Collection</td>\n      <td>2017 Oct</td>\n      <td>Backlog</td>\n      <td>Infinite</td>\n      <td>Xbox Gamepass</td>\n      <td>0</td>\n    </tr>\n  </tbody>\n</table>\n<p>502 rows × 7 columns</p>\n</div>"
     },
     "execution_count": 36,
     "metadata": {},
     "output_type": "execute_result"
    }
   ],
   "source": [
    "def add_gameplay_time(db):\n",
    "    time_query = 'SELECT ProductName, StatTotalFullRuntime FROM Applications'\n",
    "    time_db = import_database_from_sql(time_query, global_imports.gtt_db_path)\n",
    "    db = db.merge(time_db, how='left', left_on='Title', right_on='ProductName')\n",
    "    db = db.drop('ProductName', axis=1)\n",
    "    db['StatTotalFullRuntime'] = db['StatTotalFullRuntime'].fillna(0)\n",
    "    db = db.rename(columns={\"StatTotalFullRuntime\": \"GameplayTime\"})\n",
    "\n",
    "    def convert_to_hours(x):\n",
    "        if x:\n",
    "\n",
    "            # The value of gameplay has additional zeroes. Remove zeroes and convert to minutes\n",
    "            x = x/(10000000*60)\n",
    "            hours = int(x/60)\n",
    "            minutes = int(x%60)\n",
    "\n",
    "            # Return output according to whether minutes or hours are zero\n",
    "            if hours and minutes:\n",
    "                return str(hours) + ' Hours ' + str(minutes) + ' Minutes'\n",
    "            elif hours:\n",
    "                return str(hours) + ' Hours'\n",
    "            elif minutes:\n",
    "                str(minutes) + ' Minutes'\n",
    "        else:\n",
    "            return 0\n",
    "    db['GameplayTime'] = db['GameplayTime'].apply(convert_to_hours)\n",
    "    return db\n",
    "\n",
    "main_db = add_gameplay_time(main_db)"
   ],
   "metadata": {
    "collapsed": false,
    "pycharm": {
     "name": "#%% Import Gameplay Time Tracker\n"
    }
   }
  }
 ],
 "metadata": {
  "kernelspec": {
   "display_name": "Python 3",
   "language": "python",
   "name": "python3"
  },
  "language_info": {
   "codemirror_mode": {
    "name": "ipython",
    "version": 2
   },
   "file_extension": ".py",
   "mimetype": "text/x-python",
   "name": "python",
   "nbconvert_exporter": "python",
   "pygments_lexer": "ipython2",
   "version": "2.7.6"
  }
 },
 "nbformat": 4,
 "nbformat_minor": 0
}
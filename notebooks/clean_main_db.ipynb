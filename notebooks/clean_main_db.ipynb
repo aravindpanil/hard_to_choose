{
 "cells": [
  {
   "cell_type": "code",
   "execution_count": 1,
   "metadata": {
    "collapsed": true,
    "pycharm": {
     "name": "#%% import statements\n"
    }
   },
   "outputs": [],
   "source": [
    "import sqlite3\n",
    "import pandas as pd\n",
    "import numpy as np\n",
    "import global_imports\n",
    "from src import xbox_spreadsheet, origin_parse, report, write_to_excel\n",
    "import re\n",
    "import json\n",
    "\n",
    "# Not necessary in a py file as jupyter does not set the path correctly\n",
    "import os\n",
    "if os.getcwd().split('\\\\')[-1] != global_imports.root_folder:\n",
    "    os.chdir(global_imports.root_folder)"
   ]
  },
  {
   "cell_type": "code",
   "execution_count": 2,
   "outputs": [],
   "source": [
    "def import_database_from_sql(sql_query,db_path):\n",
    "    connector = sqlite3.connect(db_path)\n",
    "    db = pd.read_sql(sql_query, connector)\n",
    "    return db\n",
    "\n",
    "game_piece_type_query = 'SELECT * FROM GamePieceTypes'\n",
    "game_piece_type = import_database_from_sql(game_piece_type_query, global_imports.main_db_path)\n",
    "\n",
    "main_db_query = \"\"\"SELECT GamePieces.releaseKey, GamePieces.gamePieceTypeId, GamePieces.value\n",
    "    FROM GameLinks\n",
    "\tJOIN GamePieces ON GameLinks.releaseKey = GamePieces.releaseKey\"\"\"\n",
    "main_db = import_database_from_sql(main_db_query, global_imports.main_db_path)"
   ],
   "metadata": {
    "collapsed": false,
    "pycharm": {
     "name": "#%% import main_db and datatype db for mapping the data to extract from main_db\n"
    }
   }
  },
  {
   "cell_type": "code",
   "execution_count": 3,
   "outputs": [],
   "source": [
    "#Add any metadata needed to this list. Valid values are type names\n",
    "# from GamePieceTypes\n",
    "column_names = ['title', 'meta']\n",
    "\n",
    "def split_metadata_into_columns(column_list, db):\n",
    "    \"\"\"Splits metadata of the main_db into different rows. Arguments are a list of column_names\n",
    "    and the dataframe\"\"\"\n",
    "\n",
    "# Creates columns for each item in column_list\n",
    "    for val in column_list:\n",
    "        type_id = int(game_piece_type.loc[game_piece_type['type'] == val, 'id'])\n",
    "        db[val] = db.loc[db['gamePieceTypeId'] == type_id, 'value']\n",
    "\n",
    "# Drop rows that are null in all of the generated columns. This will remove every row that\n",
    "# is not in column_list\n",
    "    db = db.dropna(subset=column_list, how='all')\n",
    "\n",
    "# Drop every other row we do not need anymore\n",
    "    db = db.drop(['value','gamePieceTypeId'], axis=1)\n",
    "\n",
    "# Group by releaseKey since the data is in its own rows. Fill row with NAN if every row is NAN\n",
    "    db = db.groupby('releaseKey', as_index=True).agg(lambda x: np.nan if x.isnull().all()\n",
    "    else x.dropna()).reset_index()\n",
    "    db = db.set_index(np.arange(0, len(db)))\n",
    "    return db\n",
    "\n",
    "\n",
    "main_db = split_metadata_into_columns(column_names, main_db)"
   ],
   "metadata": {
    "collapsed": false,
    "pycharm": {
     "name": "#%%\n"
    }
   }
  },
  {
   "cell_type": "code",
   "execution_count": 4,
   "outputs": [],
   "source": [
    "def extract_date(db):\n",
    "    \"\"\"Extract Release Date from metadata and convert it into MM YYYY format\"\"\"\n",
    "\n",
    "    date_pattern = 'releaseDate\\\":(\\d{9,10})'\n",
    "    def format_date(x):\n",
    "        date = re.search(date_pattern, x)\n",
    "        if date:\n",
    "            val = pd.to_datetime(date.group(1), unit='s')\n",
    "            val = val.strftime('%Y %b')\n",
    "            return val\n",
    "        else:\n",
    "            return 'No Date'\n",
    "\n",
    "    db['date'] = db['meta'].apply(format_date)\n",
    "    db = db.drop('meta', axis=1)\n",
    "    return db\n",
    "\n",
    "main_db = extract_date(main_db)"
   ],
   "metadata": {
    "collapsed": false,
    "pycharm": {
     "name": "#%% Extract Relevant Information from metadata\n"
    }
   }
  },
  {
   "cell_type": "code",
   "execution_count": 5,
   "outputs": [],
   "source": [
    "def create_platform(db):\n",
    "    with open(global_imports.platforms_json) as platform_file:\n",
    "        platform = json.load(platform_file)\n",
    "\n",
    "    # Create a regex pattern of all platforms to match and then return the actual platform name\n",
    "    platform_keys = list(platform.keys())\n",
    "    platform_pattern = re.compile(r\"(\\b{}\\b)\".format(\"|\".join(platform_keys)))\n",
    "\n",
    "    def platform_extract(x):\n",
    "        m = platform_pattern.match(x)\n",
    "        if m:\n",
    "            return platform[m.group(1)]\n",
    "\n",
    "    db['platform'] = db['releaseKey'].apply(platform_extract)\n",
    "    return db\n",
    "\n",
    "main_db = create_platform(main_db)"
   ],
   "metadata": {
    "collapsed": false,
    "pycharm": {
     "name": "#%% Create Platform Column by extracting from releaseKey\n"
    }
   }
  },
  {
   "cell_type": "code",
   "execution_count": 6,
   "outputs": [],
   "source": [
    "def remove_hidden_games_by_gog(db):\n",
    "    hidden_db_query = 'SELECT releaseKey, isDlc, isVisibleInLibrary FROM ReleaseProperties'\n",
    "    hidden_db = import_database_from_sql(hidden_db_query, global_imports.main_db_path)\n",
    "\n",
    "    # Delete everything marked as DLC or not visible in library\n",
    "    db = db[~db['releaseKey'].isin(hidden_db.loc[hidden_db['isVisibleInLibrary'] == 0, 'releaseKey'])]\n",
    "    db = db[~db['releaseKey'].isin(hidden_db.loc[hidden_db['isDlc'] == 1, 'releaseKey'])]\n",
    "    return db\n",
    "\n",
    "main_db = remove_hidden_games_by_gog(main_db)"
   ],
   "metadata": {
    "collapsed": false,
    "pycharm": {
     "name": "#%% Remove games marked as DLC and hidden by GOG\n"
    }
   }
  },
  {
   "cell_type": "code",
   "execution_count": 7,
   "outputs": [],
   "source": [
    "def remove_manual_hidden_games_by_user(db):\n",
    "    user_hidden_db_query = 'SELECT releaseKey, isHidden FROM UserReleaseProperties'\n",
    "    user_hidden_db = import_database_from_sql(user_hidden_db_query, global_imports.main_db_path)\n",
    "\n",
    "    # Remove games in main_db but not in user_hidden_db as these were never owned\n",
    "    db = db.drop(db[~db['releaseKey'].isin(user_hidden_db['releaseKey'])].index)\n",
    "    db = db[~db['releaseKey'].isin(user_hidden_db.loc[user_hidden_db['isHidden'] == 1, 'releaseKey'])]\n",
    "    db = db.reset_index(drop=True)\n",
    "    return db\n",
    "\n",
    "main_db = remove_manual_hidden_games_by_user(main_db)"
   ],
   "metadata": {
    "collapsed": false,
    "pycharm": {
     "name": "#%% Remove games marked as DLC and hidden by user\n"
    }
   }
  },
  {
   "cell_type": "code",
   "execution_count": 8,
   "outputs": [],
   "source": [
    "# Remove brackets and quotes around titlee\n",
    "main_db['title'] = main_db['title'].apply(lambda x: x[10:-2])\n",
    "\n",
    "def format_titles(db, column):\n",
    "\n",
    "    \"\"\"Format Title by removing special and unicode characters like trademark\"\"\"\n",
    "\n",
    "    # Remove Trademark and Copyright Symbols\n",
    "    db[column] = db[column].str.replace('\\u2122|\\u00AE','')\n",
    "\n",
    "    # Remove Windows, Windows 10 and any word before it. for Windows 10, - Windows 10 would be removed\n",
    "    db[column] = db[column].str.replace('\\S+ Windows(?: 10)?', '')\n",
    "\n",
    "    # Remove special apostrophe\n",
    "    db[column] = db[column].str.replace('’', '')\n",
    "\n",
    "    # Make any game with The in the middle of the sentence lower case\n",
    "    db[column] = db[column].str.replace('\\sthe\\s', ' the ', flags=re.IGNORECASE)\n",
    "\n",
    "    # Remove the at the beginning of the word\n",
    "    db[column] = db[column].str.replace('^The\\s', '')\n",
    "\n",
    "    # Make any game with at in the middle of the sentence lower case\n",
    "    db[column] = db[column].str.replace('\\sat\\s', ' at ', flags=re.IGNORECASE)\n",
    "    db[column] = db[column].str.strip()\n",
    "\n",
    "    return db\n",
    "\n",
    "main_db = format_titles(main_db, 'title')"
   ],
   "metadata": {
    "collapsed": false,
    "pycharm": {
     "name": "#%% Format Titles\n"
    }
   }
  },
  {
   "cell_type": "code",
   "source": [
    "def remove_duplicates(db):\n",
    "\n",
    "    # Delete rows with same title and platform\n",
    "    db = db.drop_duplicates(subset=['title','platform'], keep='last').reset_index(drop=True)\n",
    "\n",
    "    # Delete rows with same title in 'Other' Platform\n",
    "    dup = db[db.duplicated(subset=['title'], keep=False)].sort_values('title')\n",
    "    db = db.drop(dup[dup['platform'].str.match('Other')].index).reset_index(drop=True)\n",
    "    db = db[~db['title'].str.contains('trial$',flags=re.IGNORECASE)]\n",
    "    return db\n",
    "main_db = remove_duplicates(main_db)"
   ],
   "metadata": {
    "collapsed": false,
    "pycharm": {
     "name": "#%% Remove duplicates which have same title and platform\n"
    }
   },
   "execution_count": 9,
   "outputs": []
  },
  {
   "cell_type": "code",
   "execution_count": 10,
   "outputs": [],
   "source": [
    "def create_tag(db):\n",
    "\n",
    "    # Import tags database\n",
    "    tag_db_query = 'SELECT releaseKey, tag FROM UserReleaseTags'\n",
    "    tag_db = import_database_from_sql(tag_db_query, global_imports.main_db_path)\n",
    "    temp = db.merge(tag_db, how='left',left_on=['releaseKey'],right_on=['releaseKey'])\n",
    "\n",
    "    def create_status(x):\n",
    "        pattern = re.compile(r\"S - (\\w+)\")\n",
    "        if pattern.match(x):\n",
    "            return pattern.match(x).group(1)\n",
    "        return np.nan\n",
    "\n",
    "    def create_length(x):\n",
    "        pattern = re.compile(r\"L - (\\w+)\")\n",
    "        if pattern.match(x):\n",
    "            return pattern.match(x).group(1)\n",
    "        return np.nan\n",
    "\n",
    "    # Create Status and Length as two separate Columns\n",
    "    temp['tag'] = temp['tag'].fillna('No tag')\n",
    "    temp['Status'] = temp['tag'].apply(create_status)\n",
    "    temp['Length'] = temp['tag'].apply(create_length)\n",
    "    temp.drop(['tag'], axis=1, inplace=True)\n",
    "    temp = temp.groupby('releaseKey')[['Status','Length']].first().reset_index()\n",
    "    db = db.merge(temp, how='left', on='releaseKey')\n",
    "    return db\n",
    "\n",
    "# Add the Status and Length to the main Table\n",
    "main_db = create_tag(main_db)"
   ],
   "metadata": {
    "collapsed": false,
    "pycharm": {
     "name": "#%% Create Tag\n"
    }
   }
  },
  {
   "cell_type": "code",
   "source": [
    "def format_xbox(db):\n",
    "    db = pd.DataFrame(db[0], columns=db[1]).reset_index(drop=True)\n",
    "\n",
    "    # Remove the header and make the first row as header\n",
    "    new_header = db.iloc[0]\n",
    "    db = db[1:]\n",
    "    db.columns = new_header\n",
    "    db.reset_index(drop=True, inplace=True)\n",
    "\n",
    "    # Remove Xbox Games and unnecessary columns from the list\n",
    "    db = db.drop(['Metacritic', 'Genre (Giantbomb)', 'Completion', 'Age', 'Release', 'Months'], axis=1).reset_index(\n",
    "        drop=True)\n",
    "    db = db[~(db['System'] == 'Xbox One')]\n",
    "    db = db.drop(['System'], axis=1).reset_index(drop=True)\n",
    "    return db\n",
    "\n",
    "xbox_db = format_xbox(xbox_spreadsheet.import_xbox_gsheet())\n",
    "xbox_db = format_titles(xbox_db, 'Game')"
   ],
   "metadata": {
    "collapsed": false,
    "pycharm": {
     "name": "#%% Import Xbox Gamepass Databasse\n"
    }
   },
   "execution_count": 12,
   "outputs": []
  },
  {
   "cell_type": "code",
   "execution_count": 13,
   "outputs": [],
   "source": [
    "def remove_xboxgamepass(db, xdb):\n",
    "    temp = db.loc[db['platform'] == 'Xbox Gamepass'].copy()\n",
    "    xtemp = xdb.loc[xdb['Status'].str.match(r'Active|Leaving Soon')].copy()\n",
    "\n",
    "    # Temporarily remove special characters and convert to lowercase for comparison\n",
    "    def temp_format_xbox(x):\n",
    "        x = x.lower()\n",
    "        x = re.sub('\\s\\(.*\\)', '', x)\n",
    "        x = re.sub('\\'', '', x)\n",
    "        x = re.sub(': (\\w+\\sedition)', '', x)\n",
    "        x = re.sub(': (\\w+\\scut)', '', x)\n",
    "        x = re.sub(' iii', '3', x)\n",
    "        x = re.sub(' ii', '2', x)\n",
    "        x = re.sub(' iv', '4', x)\n",
    "        x = re.sub(' ix', '9', x)\n",
    "        x = re.sub(' xv', '15', x)\n",
    "        x = re.sub('[^A-Za-z0-9]+', '', x)\n",
    "        return x\n",
    "\n",
    "    temp.loc[:, 'title'] = temp['title'].apply(temp_format_xbox)\n",
    "    xtemp.loc[:, 'Game'] = xtemp['Game'].apply(temp_format_xbox)\n",
    "\n",
    "    # Fetch index of all the games in main but not in Xbox Gamepass list and delete them\n",
    "    out = temp[~temp['title'].isin(xtemp['Game'])].index\n",
    "    db.drop(out, inplace=True)\n",
    "    db.reset_index(drop=True, inplace=True)\n",
    "    return db\n",
    "\n",
    "main_db = remove_xboxgamepass(main_db, xbox_db)"
   ],
   "metadata": {
    "collapsed": false,
    "pycharm": {
     "name": "#%% Remove games not in XboX Gamepass. Some games removed from GP is still in main_db\n"
    }
   }
  },
  {
   "cell_type": "code",
   "execution_count": 14,
   "outputs": [],
   "source": [
    "def import_origin():\n",
    "    basic, premiere = origin_parse.origin_games()\n",
    "    data = pd.DataFrame(basic, columns=['Title', 'Subscription'])\n",
    "    data = data.append(pd.DataFrame(premiere, columns=data.columns))\n",
    "    data = data.sort_values('Title').reset_index(drop=True)\n",
    "    return data\n",
    "\n",
    "origin_db = import_origin()"
   ],
   "metadata": {
    "collapsed": false,
    "pycharm": {
     "name": "#%% Import Origin Access Database\n"
    }
   }
  },
  {
   "cell_type": "code",
   "execution_count": 15,
   "outputs": [],
   "source": [
    "main_db = main_db.rename(columns={\"title\": \"Title\", \"date\": \"Release\", \"platform\": \"Platform\"})\n",
    "xbox_db = xbox_db.rename(columns={\"Game\": \"Title\"})\n",
    "main_db.reset_index(drop = True, inplace = True)\n",
    "xbox_db.reset_index(drop = True, inplace = True)"
   ],
   "metadata": {
    "collapsed": false,
    "pycharm": {
     "name": "#%% Rename Columns\n"
    }
   }
  },
  {
   "cell_type": "code",
   "execution_count": 16,
   "outputs": [],
   "source": [
    "def group_platform(db):\n",
    "    temp = db.groupby('Title').agg({'Platform':'; '.join})\n",
    "    db = db.merge(temp, how='inner',left_on=['Title'],right_on=['Title'])\n",
    "    db = db.drop('Platform_x', axis=1)\n",
    "    db = db.drop_duplicates(subset=['Title', 'Platform_y'], keep='last')\n",
    "    db = db.reset_index(drop=True)\n",
    "    db = db.rename(columns={\"Platform_y\": \"Platform\"})\n",
    "    return db\n",
    "\n",
    "main_db = group_platform(main_db)"
   ],
   "metadata": {
    "collapsed": false,
    "pycharm": {
     "name": "#%% Group Platforms\n"
    }
   }
  },
  {
   "cell_type": "code",
   "execution_count": 17,
   "outputs": [],
   "source": [
    "def manual_tagging(db):\n",
    "    with open('data/tag.txt') as f:\n",
    "        row = f.read().split('\\n')\n",
    "        for i in row:\n",
    "            col = i.split(',')\n",
    "            db.loc[db['Title'].str.contains(col[0]), 'Length'] = col[1]\n",
    "            db.loc[db['Title'].str.contains(col[0]), 'Status'] = col[2]\n",
    "    return db\n",
    "\n",
    "main_db = manual_tagging(main_db).reset_index(drop=True)\n",
    "\n",
    "# Sort values by Title ignoring case\n",
    "main_db['Upper'] = main_db['Title'].str.upper()\n",
    "main_db.sort_values(by='Upper', inplace=True)\n",
    "del main_db['Upper']"
   ],
   "metadata": {
    "collapsed": false,
    "pycharm": {
     "name": "#%% Manually tag games where tags are glitched\n"
    }
   }
  },
  {
   "cell_type": "code",
   "execution_count": 18,
   "outputs": [],
   "source": [
    "def add_gameplay_time(db):\n",
    "    time_query = 'SELECT ProductName, StatTotalFullRuntime FROM Applications'\n",
    "    time_db = import_database_from_sql(time_query, global_imports.gtt_db_path)\n",
    "    db = db.merge(time_db, how='left', left_on='Title', right_on='ProductName')\n",
    "    db = db.drop('ProductName', axis=1)\n",
    "    db['StatTotalFullRuntime'] = db['StatTotalFullRuntime'].fillna(0)\n",
    "    db = db.rename(columns={\"StatTotalFullRuntime\": \"GameplayTime\"})\n",
    "\n",
    "    def convert_to_hours(x):\n",
    "        if x:\n",
    "\n",
    "            # The value of gameplay has additional zeroes. Remove zeroes and convert to minutes\n",
    "            x = x/(10000000*60)\n",
    "            hours = int(x/60)\n",
    "            minutes = int(x%60)\n",
    "\n",
    "            # Return output according to whether minutes or hours are zero\n",
    "            if hours and minutes:\n",
    "                return str(hours) + ' Hours ' + str(minutes) + ' Minutes'\n",
    "            elif hours:\n",
    "                return str(hours) + ' Hours'\n",
    "            elif minutes:\n",
    "                return str(minutes) + ' Minutes'\n",
    "        else:\n",
    "            return 0\n",
    "    db['GameplayTime'] = db['GameplayTime'].apply(convert_to_hours)\n",
    "    return db\n",
    "\n",
    "main_db = add_gameplay_time(main_db)"
   ],
   "metadata": {
    "collapsed": false,
    "pycharm": {
     "name": "#%% Import Gameplay Time Tracker\n"
    }
   }
  },
  {
   "cell_type": "code",
   "execution_count": 19,
   "outputs": [],
   "source": [
    "db_list = {'main_db':main_db, 'xbox_db':xbox_db, 'origin_db':origin_db}\n",
    "\n",
    "def save_dataframe(dict_of_db):\n",
    "    for key,value in dict_of_db.items():\n",
    "        old = 'data/' + str(key) + '_old'\n",
    "        new = 'data/' + str(key)\n",
    "        os.remove(old)\n",
    "        os.rename(new, old)\n",
    "        value.to_pickle(new)\n",
    "\n",
    "save_dataframe(db_list)"
   ],
   "metadata": {
    "collapsed": false,
    "pycharm": {
     "name": "#%% Save Dataframe to /data\n"
    }
   }
  },
  {
   "cell_type": "code",
   "execution_count": 20,
   "outputs": [
    {
     "ename": "FileCreateError",
     "evalue": "[Errno 13] Permission denied: 'Games.xlsx'",
     "output_type": "error",
     "traceback": [
      "\u001B[1;31m---------------------------------------------------------------------------\u001B[0m",
      "\u001B[1;31mPermissionError\u001B[0m                           Traceback (most recent call last)",
      "\u001B[1;32md:\\projects\\hard_to_choose\\venv\\lib\\site-packages\\xlsxwriter\\workbook.py\u001B[0m in \u001B[0;36mclose\u001B[1;34m(self)\u001B[0m\n\u001B[0;32m    315\u001B[0m             \u001B[1;32mtry\u001B[0m\u001B[1;33m:\u001B[0m\u001B[1;33m\u001B[0m\u001B[1;33m\u001B[0m\u001B[0m\n\u001B[1;32m--> 316\u001B[1;33m                 \u001B[0mself\u001B[0m\u001B[1;33m.\u001B[0m\u001B[0m_store_workbook\u001B[0m\u001B[1;33m(\u001B[0m\u001B[1;33m)\u001B[0m\u001B[1;33m\u001B[0m\u001B[1;33m\u001B[0m\u001B[0m\n\u001B[0m\u001B[0;32m    317\u001B[0m             \u001B[1;32mexcept\u001B[0m \u001B[0mIOError\u001B[0m \u001B[1;32mas\u001B[0m \u001B[0me\u001B[0m\u001B[1;33m:\u001B[0m\u001B[1;33m\u001B[0m\u001B[1;33m\u001B[0m\u001B[0m\n",
      "\u001B[1;32md:\\projects\\hard_to_choose\\venv\\lib\\site-packages\\xlsxwriter\\workbook.py\u001B[0m in \u001B[0;36m_store_workbook\u001B[1;34m(self)\u001B[0m\n\u001B[0;32m    631\u001B[0m         \u001B[1;32mexcept\u001B[0m \u001B[0mIOError\u001B[0m \u001B[1;32mas\u001B[0m \u001B[0me\u001B[0m\u001B[1;33m:\u001B[0m\u001B[1;33m\u001B[0m\u001B[1;33m\u001B[0m\u001B[0m\n\u001B[1;32m--> 632\u001B[1;33m             \u001B[1;32mraise\u001B[0m \u001B[0me\u001B[0m\u001B[1;33m\u001B[0m\u001B[1;33m\u001B[0m\u001B[0m\n\u001B[0m\u001B[0;32m    633\u001B[0m \u001B[1;33m\u001B[0m\u001B[0m\n",
      "\u001B[1;32md:\\projects\\hard_to_choose\\venv\\lib\\site-packages\\xlsxwriter\\workbook.py\u001B[0m in \u001B[0;36m_store_workbook\u001B[1;34m(self)\u001B[0m\n\u001B[0;32m    629\u001B[0m             xlsx_file = ZipFile(self.filename, \"w\", compression=ZIP_DEFLATED,\n\u001B[1;32m--> 630\u001B[1;33m                                 allowZip64=self.allow_zip64)\n\u001B[0m\u001B[0;32m    631\u001B[0m         \u001B[1;32mexcept\u001B[0m \u001B[0mIOError\u001B[0m \u001B[1;32mas\u001B[0m \u001B[0me\u001B[0m\u001B[1;33m:\u001B[0m\u001B[1;33m\u001B[0m\u001B[1;33m\u001B[0m\u001B[0m\n",
      "\u001B[1;32m~\\AppData\\Local\\Programs\\Python\\Python37\\lib\\zipfile.py\u001B[0m in \u001B[0;36m__init__\u001B[1;34m(self, file, mode, compression, allowZip64, compresslevel)\u001B[0m\n\u001B[0;32m   1239\u001B[0m                 \u001B[1;32mtry\u001B[0m\u001B[1;33m:\u001B[0m\u001B[1;33m\u001B[0m\u001B[1;33m\u001B[0m\u001B[0m\n\u001B[1;32m-> 1240\u001B[1;33m                     \u001B[0mself\u001B[0m\u001B[1;33m.\u001B[0m\u001B[0mfp\u001B[0m \u001B[1;33m=\u001B[0m \u001B[0mio\u001B[0m\u001B[1;33m.\u001B[0m\u001B[0mopen\u001B[0m\u001B[1;33m(\u001B[0m\u001B[0mfile\u001B[0m\u001B[1;33m,\u001B[0m \u001B[0mfilemode\u001B[0m\u001B[1;33m)\u001B[0m\u001B[1;33m\u001B[0m\u001B[1;33m\u001B[0m\u001B[0m\n\u001B[0m\u001B[0;32m   1241\u001B[0m                 \u001B[1;32mexcept\u001B[0m \u001B[0mOSError\u001B[0m\u001B[1;33m:\u001B[0m\u001B[1;33m\u001B[0m\u001B[1;33m\u001B[0m\u001B[0m\n",
      "\u001B[1;31mPermissionError\u001B[0m: [Errno 13] Permission denied: 'Games.xlsx'",
      "\nDuring handling of the above exception, another exception occurred:\n",
      "\u001B[1;31mFileCreateError\u001B[0m                           Traceback (most recent call last)",
      "\u001B[1;32m<ipython-input-20-4766e72f7320>\u001B[0m in \u001B[0;36m<module>\u001B[1;34m\u001B[0m\n\u001B[1;32m----> 1\u001B[1;33m \u001B[0mwrite_to_excel\u001B[0m\u001B[1;33m.\u001B[0m\u001B[0mmain\u001B[0m\u001B[1;33m(\u001B[0m\u001B[1;33m)\u001B[0m\u001B[1;33m\u001B[0m\u001B[1;33m\u001B[0m\u001B[0m\n\u001B[0m\u001B[0;32m      2\u001B[0m \u001B[1;33m\u001B[0m\u001B[0m\n",
      "\u001B[1;32mD:\\Projects\\hard_to_choose\\src\\write_to_excel.py\u001B[0m in \u001B[0;36mmain\u001B[1;34m()\u001B[0m\n\u001B[0;32m     24\u001B[0m             )) + 1  # adding a little extra space\n\u001B[0;32m     25\u001B[0m             \u001B[0mworksheet\u001B[0m\u001B[1;33m.\u001B[0m\u001B[0mset_column\u001B[0m\u001B[1;33m(\u001B[0m\u001B[0midx\u001B[0m\u001B[1;33m,\u001B[0m \u001B[0midx\u001B[0m\u001B[1;33m,\u001B[0m \u001B[0mmax_len\u001B[0m\u001B[1;33m)\u001B[0m  \u001B[1;31m# set column width\u001B[0m\u001B[1;33m\u001B[0m\u001B[1;33m\u001B[0m\u001B[0m\n\u001B[1;32m---> 26\u001B[1;33m     \u001B[0mwriter\u001B[0m\u001B[1;33m.\u001B[0m\u001B[0msave\u001B[0m\u001B[1;33m(\u001B[0m\u001B[1;33m)\u001B[0m\u001B[1;33m\u001B[0m\u001B[1;33m\u001B[0m\u001B[0m\n\u001B[0m\u001B[0;32m     27\u001B[0m     \u001B[0mos\u001B[0m\u001B[1;33m.\u001B[0m\u001B[0mchdir\u001B[0m\u001B[1;33m(\u001B[0m\u001B[1;34m'..'\u001B[0m\u001B[1;33m)\u001B[0m\u001B[1;33m\u001B[0m\u001B[1;33m\u001B[0m\u001B[0m\n\u001B[0;32m     28\u001B[0m     \u001B[0mprint\u001B[0m\u001B[1;33m(\u001B[0m\u001B[1;34m\"Successfully written to excel/Games.xlsx\"\u001B[0m\u001B[1;33m)\u001B[0m\u001B[1;33m\u001B[0m\u001B[1;33m\u001B[0m\u001B[0m\n",
      "\u001B[1;32md:\\projects\\hard_to_choose\\venv\\lib\\site-packages\\pandas\\io\\excel\\_xlsxwriter.py\u001B[0m in \u001B[0;36msave\u001B[1;34m(self)\u001B[0m\n\u001B[0;32m    193\u001B[0m         \"\"\"\n\u001B[0;32m    194\u001B[0m \u001B[1;33m\u001B[0m\u001B[0m\n\u001B[1;32m--> 195\u001B[1;33m         \u001B[1;32mreturn\u001B[0m \u001B[0mself\u001B[0m\u001B[1;33m.\u001B[0m\u001B[0mbook\u001B[0m\u001B[1;33m.\u001B[0m\u001B[0mclose\u001B[0m\u001B[1;33m(\u001B[0m\u001B[1;33m)\u001B[0m\u001B[1;33m\u001B[0m\u001B[1;33m\u001B[0m\u001B[0m\n\u001B[0m\u001B[0;32m    196\u001B[0m \u001B[1;33m\u001B[0m\u001B[0m\n\u001B[0;32m    197\u001B[0m     def write_cells(\n",
      "\u001B[1;32md:\\projects\\hard_to_choose\\venv\\lib\\site-packages\\xlsxwriter\\workbook.py\u001B[0m in \u001B[0;36mclose\u001B[1;34m(self)\u001B[0m\n\u001B[0;32m    316\u001B[0m                 \u001B[0mself\u001B[0m\u001B[1;33m.\u001B[0m\u001B[0m_store_workbook\u001B[0m\u001B[1;33m(\u001B[0m\u001B[1;33m)\u001B[0m\u001B[1;33m\u001B[0m\u001B[1;33m\u001B[0m\u001B[0m\n\u001B[0;32m    317\u001B[0m             \u001B[1;32mexcept\u001B[0m \u001B[0mIOError\u001B[0m \u001B[1;32mas\u001B[0m \u001B[0me\u001B[0m\u001B[1;33m:\u001B[0m\u001B[1;33m\u001B[0m\u001B[1;33m\u001B[0m\u001B[0m\n\u001B[1;32m--> 318\u001B[1;33m                 \u001B[1;32mraise\u001B[0m \u001B[0mFileCreateError\u001B[0m\u001B[1;33m(\u001B[0m\u001B[0me\u001B[0m\u001B[1;33m)\u001B[0m\u001B[1;33m\u001B[0m\u001B[1;33m\u001B[0m\u001B[0m\n\u001B[0m\u001B[0;32m    319\u001B[0m             \u001B[1;32mexcept\u001B[0m \u001B[0mLargeZipFile\u001B[0m \u001B[1;32mas\u001B[0m \u001B[0me\u001B[0m\u001B[1;33m:\u001B[0m\u001B[1;33m\u001B[0m\u001B[1;33m\u001B[0m\u001B[0m\n\u001B[0;32m    320\u001B[0m                 raise FileSizeError(\"Filesize would require ZIP64 extensions. \"\n",
      "\u001B[1;31mFileCreateError\u001B[0m: [Errno 13] Permission denied: 'Games.xlsx'"
     ]
    }
   ],
   "source": [
    "write_to_excel.main()"
   ],
   "metadata": {
    "collapsed": false,
    "pycharm": {
     "name": "#%% Write database to excel\n"
    }
   }
  },
  {
   "cell_type": "code",
   "execution_count": null,
   "outputs": [],
   "source": [
    "report.main()"
   ],
   "metadata": {
    "collapsed": false,
    "pycharm": {
     "name": "#%% Generate Report logs\n"
    }
   }
  },
  {
   "cell_type": "code",
   "execution_count": null,
   "outputs": [],
   "source": [
    "temp1 = 'SELECT releaseKey, isDlc, isVisibleInLibrary FROM ReleaseProperties'\n",
    "temp2 = import_database_from_sql(temp1, global_imports.main_db_path)\n",
    "\n",
    "temp1 = 'SELECT releaseKey, isHidden FROM UserReleaseProperties'\n",
    "temp3 = import_database_from_sql(temp1, global_imports.main_db_path)\n",
    "\n"
   ],
   "metadata": {
    "collapsed": false,
    "pycharm": {
     "name": "#%%\n"
    }
   }
  },
  {
   "cell_type": "code",
   "execution_count": null,
   "outputs": [],
   "source": [
    "temp3[temp3['releaseKey'] == 'origin_Origin.OFR.50.0002732']\n",
    "main_db[main_db['Title'].str.contains('Battlefield')]\n",
    "\n"
   ],
   "metadata": {
    "collapsed": false,
    "pycharm": {
     "name": "#%%\n"
    }
   }
  }
 ],
 "metadata": {
  "kernelspec": {
   "display_name": "Python 3",
   "language": "python",
   "name": "python3"
  },
  "language_info": {
   "codemirror_mode": {
    "name": "ipython",
    "version": 2
   },
   "file_extension": ".py",
   "mimetype": "text/x-python",
   "name": "python",
   "nbconvert_exporter": "python",
   "pygments_lexer": "ipython2",
   "version": "2.7.6"
  }
 },
 "nbformat": 4,
 "nbformat_minor": 0
}
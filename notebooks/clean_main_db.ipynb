{
 "cells": [
  {
   "cell_type": "code",
   "execution_count": 82,
   "metadata": {
    "collapsed": true,
    "pycharm": {
     "name": "#%% import statements\n"
    }
   },
   "outputs": [],
   "source": [
    "import sqlite3\n",
    "import pandas as pd\n",
    "import numpy as np\n",
    "import global_imports\n",
    "import re\n",
    "import json\n",
    "\n",
    "# Not necessary in a py file as jupyter does not set the path correctly\n",
    "import os\n",
    "if os.getcwd().split('\\\\')[-1] != global_imports.root_folder:\n",
    "    os.chdir(global_imports.root_folder)"
   ]
  },
  {
   "cell_type": "code",
   "execution_count": 83,
   "outputs": [],
   "source": [
    "def import_database_from_sql(sql_query,db_path):\n",
    "    connector = sqlite3.connect(db_path)\n",
    "    db = pd.read_sql(sql_query, connector)\n",
    "    return db\n",
    "\n",
    "game_piece_type_query = 'SELECT * FROM GamePieceTypes'\n",
    "game_piece_type = import_database_from_sql(game_piece_type_query, global_imports.main_db_path)\n",
    "\n",
    "main_db_query = \"\"\"SELECT GamePieces.releaseKey, GamePieces.gamePieceTypeId, GamePieces.value\n",
    "    FROM GameLinks\n",
    "\tJOIN GamePieces ON GameLinks.releaseKey = GamePieces.releaseKey\"\"\"\n",
    "main_db = import_database_from_sql(main_db_query, global_imports.main_db_path)"
   ],
   "metadata": {
    "collapsed": false,
    "pycharm": {
     "name": "#%% import main_db and datatype db for mapping the data to extract from main_db\n"
    }
   }
  },
  {
   "cell_type": "code",
   "execution_count": 84,
   "outputs": [],
   "source": [
    "#Add any metadata needed to this list. Valid values are type names\n",
    "# from GamePieceTypes\n",
    "column_names = ['title', 'meta']\n",
    "\n",
    "def split_metadata_into_columns(column_list, db):\n",
    "    \"\"\"Splits metadata of the main_db into different rows. Arguments are a list of column_names\n",
    "    and the dataframe\"\"\"\n",
    "\n",
    "# Creates columns for each item in column_list\n",
    "    for val in column_list:\n",
    "        type_id = int(game_piece_type.loc[game_piece_type['type'] == val, 'id'])\n",
    "        db[val] = db.loc[db['gamePieceTypeId'] == type_id, 'value']\n",
    "\n",
    "# Drop rows that are null in all of the generated columns. This will remove every row that\n",
    "# is not in column_list\n",
    "    db = db.dropna(subset=column_list, how='all')\n",
    "\n",
    "# Drop every other row we do not need anymore\n",
    "    db = db.drop(['value','gamePieceTypeId'], axis=1)\n",
    "\n",
    "# Group by releaseKey since the data is in its own rows. Fill row with NAN if every row is NAN\n",
    "    db = db.groupby('releaseKey', as_index=True).agg(lambda x: np.nan if x.isnull().all()\n",
    "    else x.dropna()).reset_index()\n",
    "    db = db.set_index(np.arange(1, len(db) + 1))\n",
    "    return db\n",
    "\n",
    "\n",
    "main_db = split_metadata_into_columns(column_names, main_db)"
   ],
   "metadata": {
    "collapsed": false,
    "pycharm": {
     "name": "#%%\n"
    }
   }
  },
  {
   "cell_type": "code",
   "execution_count": 85,
   "outputs": [],
   "source": [
    "def extract_date(db):\n",
    "    \"\"\"Extract Release Date from metadata and convert it into MM YYYY format\"\"\"\n",
    "\n",
    "    date_pattern = 'releaseDate\\\":(\\d{9,10})'\n",
    "    def format_date(x):\n",
    "        date = re.search(date_pattern, x)\n",
    "        if date:\n",
    "            val = pd.to_datetime(date.group(1), unit='s')\n",
    "            val = val.strftime('%Y %b')\n",
    "            return val\n",
    "        else:\n",
    "            return 'No Date'\n",
    "\n",
    "    db['date'] = db['meta'].apply(format_date)\n",
    "    db = db.drop('meta', axis=1)\n",
    "    return db\n",
    "\n",
    "main_db = extract_date(main_db)"
   ],
   "metadata": {
    "collapsed": false,
    "pycharm": {
     "name": "#%% Extract Relevant Information from metadata\n"
    }
   }
  },
  {
   "cell_type": "code",
   "execution_count": 86,
   "outputs": [],
   "source": [
    "def create_platform(db):\n",
    "    with open(global_imports.platforms_json) as platform_file:\n",
    "        platform = json.load(platform_file)\n",
    "\n",
    "    # Create a regex pattern of all platforms to match and then return the actual platform name\n",
    "    platform_keys = list(platform.keys())\n",
    "    platform_pattern = re.compile(r\"(\\b{}\\b)\".format(\"|\".join(platform_keys)))\n",
    "\n",
    "    def platform_extract(x):\n",
    "        m = platform_pattern.match(x)\n",
    "        if m:\n",
    "            return platform[m.group(1)]\n",
    "\n",
    "    db['platform'] = db['releaseKey'].apply(platform_extract)\n",
    "    return db\n",
    "\n",
    "main_db = create_platform(main_db)"
   ],
   "metadata": {
    "collapsed": false,
    "pycharm": {
     "name": "#%% Create Platform Column by extracting from releaseKey\n"
    }
   }
  },
  {
   "cell_type": "code",
   "execution_count": 87,
   "outputs": [],
   "source": [
    "def remove_hidden_games_by_gog(db):\n",
    "    hidden_db_query = 'SELECT releaseKey, isDlc, isVisibleInLibrary FROM ReleaseProperties'\n",
    "    hidden_db = import_database_from_sql(hidden_db_query, global_imports.main_db_path)\n",
    "\n",
    "    # Delete everything marked as DLC or not visible in library\n",
    "    db = db[~db['releaseKey'].isin(hidden_db.loc[hidden_db['isVisibleInLibrary'] == 0, 'releaseKey'])]\n",
    "    db = db[~db['releaseKey'].isin(hidden_db.loc[hidden_db['isDlc'] == 1, 'releaseKey'])]\n",
    "    return db\n",
    "\n",
    "main_db = remove_hidden_games_by_gog(main_db)"
   ],
   "metadata": {
    "collapsed": false,
    "pycharm": {
     "name": "#%% Remove games marked as DLC and hidden by GOG\n"
    }
   }
  },
  {
   "cell_type": "code",
   "execution_count": 88,
   "outputs": [],
   "source": [
    "def remove_manual_hidden_games_by_user(db):\n",
    "    user_hidden_db_query = 'SELECT releaseKey, isHidden FROM UserReleaseProperties'\n",
    "    user_hidden_db = import_database_from_sql(user_hidden_db_query, global_imports.main_db_path)\n",
    "\n",
    "    # Remove games in main_db but not in user_hidden_db as these were never owned\n",
    "    db = db.drop(db[~db['releaseKey'].isin(user_hidden_db['releaseKey'])].index)\n",
    "    db = db[~db['releaseKey'].isin(user_hidden_db.loc[user_hidden_db['isHidden'] == 1, 'releaseKey'])]\n",
    "    db = db.reset_index(drop=True)\n",
    "    return db\n",
    "\n",
    "main_db = remove_manual_hidden_games_by_user(main_db)"
   ],
   "metadata": {
    "collapsed": false,
    "pycharm": {
     "name": "#%% Remove games marked as DLC and hidden by user\n"
    }
   }
  },
  {
   "cell_type": "code",
   "execution_count": 89,
   "outputs": [],
   "source": [
    "# Remove brackets and quotes around titlee\n",
    "main_db['title'] = main_db['title'].apply(lambda x: x[10:-2])\n",
    "\n",
    "def format_titles(db, column):\n",
    "\n",
    "    \"\"\"Format Title by removing special and unicode characters like trademark\"\"\"\n",
    "\n",
    "    # Remove Trademark and Copyright Symbols\n",
    "    db[column] = db[column].str.replace('\\u2122|\\u00AE','')\n",
    "\n",
    "    # Remove Windows, Windows 10 and any word before it. for Windows 10, - Windows 10 would be removed\n",
    "    db[column] = db[column].str.replace('\\S+ Windows(?: 10)?', '')\n",
    "\n",
    "    # Remove special apostrophe\n",
    "    db[column] = db[column].str.replace('’', '')\n",
    "\n",
    "    # Make any game with The in the middle of the sentence lower case\n",
    "    db[column] = db[column].str.replace('\\sthe\\s', ' the ', flags=re.IGNORECASE)\n",
    "\n",
    "    # Remove the at the beginning of the word\n",
    "    db[column] = db[column].str.replace('^The\\s', '')\n",
    "\n",
    "    # Make any game with at in the middle of the sentence lower case\n",
    "    db[column] = db[column].str.replace('\\sat\\s', ' at ', flags=re.IGNORECASE)\n",
    "    db[column] = db[column].str.strip()\n",
    "\n",
    "    return db\n",
    "\n",
    "main_db = format_titles(main_db, 'title')"
   ],
   "metadata": {
    "collapsed": false,
    "pycharm": {
     "name": "#%% Format Titles\n"
    }
   }
  },
  {
   "cell_type": "code",
   "source": [
    "def remove_duplicates(db):\n",
    "\n",
    "    # Delete rows with same title and platform\n",
    "    db = db.drop_duplicates(subset=['title','platform'], keep='last').reset_index(drop=True)\n",
    "\n",
    "    # Delete rows with same title in 'Other' Platform\n",
    "    dup = db[db.duplicated(subset=['title'], keep=False)].sort_values('title')\n",
    "    db = db.drop(dup[dup['platform'].str.match('Other')].index).reset_index(drop=True)\n",
    "    return db\n",
    "\n",
    "main_db = remove_duplicates(main_db)"
   ],
   "metadata": {
    "collapsed": false,
    "pycharm": {
     "name": "#%% Remove duplicates which have same title and platform\n"
    }
   },
   "execution_count": 90,
   "outputs": []
  },
  {
   "cell_type": "code",
   "execution_count": 91,
   "outputs": [
    {
     "data": {
      "text/plain": "Empty DataFrame\nColumns: [releaseKey, title, date, platform]\nIndex: []",
      "text/html": "<div>\n<style scoped>\n    .dataframe tbody tr th:only-of-type {\n        vertical-align: middle;\n    }\n\n    .dataframe tbody tr th {\n        vertical-align: top;\n    }\n\n    .dataframe thead th {\n        text-align: right;\n    }\n</style>\n<table border=\"1\" class=\"dataframe\">\n  <thead>\n    <tr style=\"text-align: right;\">\n      <th></th>\n      <th>releaseKey</th>\n      <th>title</th>\n      <th>date</th>\n      <th>platform</th>\n    </tr>\n  </thead>\n  <tbody>\n  </tbody>\n</table>\n</div>"
     },
     "execution_count": 91,
     "metadata": {},
     "output_type": "execute_result"
    }
   ],
   "source": [],
   "metadata": {
    "collapsed": false,
    "pycharm": {
     "name": "#%%"
    }
   }
  }
 ],
 "metadata": {
  "kernelspec": {
   "display_name": "Python 3",
   "language": "python",
   "name": "python3"
  },
  "language_info": {
   "codemirror_mode": {
    "name": "ipython",
    "version": 2
   },
   "file_extension": ".py",
   "mimetype": "text/x-python",
   "name": "python",
   "nbconvert_exporter": "python",
   "pygments_lexer": "ipython2",
   "version": "2.7.6"
  }
 },
 "nbformat": 4,
 "nbformat_minor": 0
}
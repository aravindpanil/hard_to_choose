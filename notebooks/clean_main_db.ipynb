{
 "cells": [
  {
   "cell_type": "code",
   "execution_count": 1,
   "metadata": {
    "collapsed": true,
    "pycharm": {
     "name": "#%% import statements\n"
    }
   },
   "outputs": [],
   "source": [
    "import sqlite3\n",
    "import pandas as pd\n",
    "import numpy as np\n",
    "import global_imports\n",
    "import re\n",
    "import json\n",
    "\n",
    "# Not necessary in a py file as jupyter does not set the path correctly\n",
    "import os\n",
    "os.chdir('hard_to_choose/')"
   ]
  },
  {
   "cell_type": "code",
   "execution_count": 2,
   "outputs": [],
   "source": [
    "def import_database_from_sql(sql_query,db_path):\n",
    "    connector = sqlite3.connect(db_path)\n",
    "    db = pd.read_sql(sql_query, connector)\n",
    "    return db\n",
    "\n",
    "game_piece_type_query = 'SELECT * FROM GamePieceTypes'\n",
    "game_piece_type = import_database_from_sql(game_piece_type_query, global_imports.main_db_path)\n",
    "\n",
    "main_db_query = \"\"\"SELECT GamePieces.releaseKey, GamePieces.gamePieceTypeId, GamePieces.value\n",
    "    FROM GameLinks\n",
    "\tJOIN GamePieces ON GameLinks.releaseKey = GamePieces.releaseKey\"\"\"\n",
    "main_db = import_database_from_sql(main_db_query, global_imports.main_db_path)"
   ],
   "metadata": {
    "collapsed": false,
    "pycharm": {
     "name": "#%% import main_db and datatype db for mapping the data to extract from main_db\n"
    }
   }
  },
  {
   "cell_type": "code",
   "execution_count": 3,
   "outputs": [],
   "source": [
    "#Add any metadata needed to this list. Valid values are type names\n",
    "# from GamePieceTypes\n",
    "column_names = ['title', 'meta']\n",
    "\n",
    "def split_metadata_into_columns(column_list, db):\n",
    "    \"\"\"Splits metadata of the main_db into different rows. Arguments are a list of column_names\n",
    "    and the dataframe\"\"\"\n",
    "\n",
    "# Creates columns for each item in column_list\n",
    "    for val in column_list:\n",
    "        type_id = int(game_piece_type.loc[game_piece_type['type'] == val, 'id'])\n",
    "        db[val] = db.loc[db['gamePieceTypeId'] == type_id, 'value']\n",
    "\n",
    "# Drop rows that are null in all of the generated columns. This will remove every row that\n",
    "# is not in column_list\n",
    "    db = db.dropna(subset=column_list, how='all')\n",
    "\n",
    "# Drop every other row we do not need anymore\n",
    "    db = db.drop(['value','gamePieceTypeId'], axis=1)\n",
    "\n",
    "# Group by releaseKey since the data is in its own rows. Fill row with NAN if every row is NAN\n",
    "    db = db.groupby('releaseKey', as_index=True).agg(lambda x: np.nan if x.isnull().all()\n",
    "    else x.dropna()).reset_index()\n",
    "    db = db.set_index(np.arange(1, len(db) + 1))\n",
    "    return db\n",
    "\n",
    "\n",
    "main_db = split_metadata_into_columns(column_names, main_db)"
   ],
   "metadata": {
    "collapsed": false,
    "pycharm": {
     "name": "#%%\n"
    }
   }
  },
  {
   "cell_type": "code",
   "execution_count": 4,
   "outputs": [],
   "source": [
    "def extract_date(db):\n",
    "    \"\"\"Extract Release Date from metadata and convert it into MM YYYY format\"\"\"\n",
    "\n",
    "    date_pattern = 'releaseDate\\\":(\\d{9,10})'\n",
    "    def format_date(x):\n",
    "        date = re.search(date_pattern, x)\n",
    "        if date:\n",
    "            val = pd.to_datetime(date.group(1), unit='s')\n",
    "            val = val.strftime('%Y %b')\n",
    "            return val\n",
    "        else:\n",
    "            return 'No Date'\n",
    "\n",
    "    db['date'] = db['meta'].apply(format_date)\n",
    "    db = db.drop('meta', axis=1)\n",
    "    return db\n",
    "\n",
    "main_db = extract_date(main_db)"
   ],
   "metadata": {
    "collapsed": false,
    "pycharm": {
     "name": "#%% Extract Relevant Information from metadata\n"
    }
   }
  },
  {
   "cell_type": "code",
   "execution_count": 5,
   "outputs": [],
   "source": [
    "def create_platform(db):\n",
    "    with open(global_imports.platforms_json) as platform_file:\n",
    "        platform = json.load(platform_file)\n",
    "\n",
    "    # Create a regex pattern of all platforms to match and then return the actual platform name\n",
    "    platform_keys = list(platform.keys())\n",
    "    platform_pattern = re.compile(r\"(\\b{}\\b)\".format(\"|\".join(platform_keys)))\n",
    "\n",
    "    def platform_extract(x):\n",
    "        m = platform_pattern.match(x)\n",
    "        if m:\n",
    "            return platform[m.group(1)]\n",
    "\n",
    "    db['platform'] = db['releaseKey'].apply(platform_extract)\n",
    "    return db\n",
    "\n",
    "main_db = create_platform(main_db)"
   ],
   "metadata": {
    "collapsed": false,
    "pycharm": {
     "name": "#%% Create Platform Column by extracting from releaseKey\n"
    }
   }
  },
  {
   "cell_type": "code",
   "execution_count": 5,
   "outputs": [],
   "source": [],
   "metadata": {
    "collapsed": false,
    "pycharm": {
     "name": "#%%\n"
    }
   }
  }
 ],
 "metadata": {
  "kernelspec": {
   "display_name": "Python 3",
   "language": "python",
   "name": "python3"
  },
  "language_info": {
   "codemirror_mode": {
    "name": "ipython",
    "version": 2
   },
   "file_extension": ".py",
   "mimetype": "text/x-python",
   "name": "python",
   "nbconvert_exporter": "python",
   "pygments_lexer": "ipython2",
   "version": "2.7.6"
  }
 },
 "nbformat": 4,
 "nbformat_minor": 0
}
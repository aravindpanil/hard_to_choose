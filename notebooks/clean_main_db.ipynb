{
 "cells": [
  {
   "cell_type": "code",
   "execution_count": 3,
   "metadata": {
    "collapsed": true,
    "pycharm": {
     "name": "#%% import statements\n"
    }
   },
   "outputs": [],
   "source": [
    "import sqlite3\n",
    "import pandas as pd\n",
    "import numpy as np\n",
    "import global_imports\n",
    "import re\n",
    "import json\n",
    "\n",
    "# Not necessary in a py file as jupyter does not set the path correctly\n",
    "import os\n",
    "os.chdir('hard_to_choose/')"
   ]
  },
  {
   "cell_type": "code",
   "execution_count": 4,
   "outputs": [],
   "source": [
    "def import_database_from_sql(sql_query,db_path):\n",
    "    connector = sqlite3.connect(db_path)\n",
    "    db = pd.read_sql(sql_query, connector)\n",
    "    return db\n",
    "\n",
    "game_piece_type_query = 'SELECT * FROM GamePieceTypes'\n",
    "game_piece_type = import_database_from_sql(game_piece_type_query, global_imports.main_db_path)\n",
    "\n",
    "main_db_query = \"\"\"SELECT GamePieces.releaseKey, GamePieces.gamePieceTypeId, GamePieces.value\n",
    "    FROM GameLinks\n",
    "\tJOIN GamePieces ON GameLinks.releaseKey = GamePieces.releaseKey\"\"\"\n",
    "main_db = import_database_from_sql(main_db_query, global_imports.main_db_path)"
   ],
   "metadata": {
    "collapsed": false,
    "pycharm": {
     "name": "#%% import main_db and datatype db for mapping the data to extract from main_db\n"
    }
   }
  },
  {
   "cell_type": "code",
   "execution_count": 5,
   "outputs": [],
   "source": [
    "#Add any metadata needed to this list. Valid values are type names\n",
    "# from GamePieceTypes\n",
    "column_names = ['title', 'meta']\n",
    "\n",
    "def split_metadata_into_columns(column_list, db):\n",
    "    \"\"\"Splits metadata of the main_db into different rows. Arguments are a list of column_names\n",
    "    and the dataframe\"\"\"\n",
    "\n",
    "# Creates columns for each item in column_list\n",
    "    for val in column_list:\n",
    "        type_id = int(game_piece_type.loc[game_piece_type['type'] == val, 'id'])\n",
    "        db[val] = db.loc[db['gamePieceTypeId'] == type_id, 'value']\n",
    "\n",
    "# Drop rows that are null in all of the generated columns. This will remove every row that\n",
    "# is not in column_list\n",
    "    db = db.dropna(subset=column_list, how='all')\n",
    "\n",
    "# Drop every other row we do not need anymore\n",
    "    db = db.drop(['value','gamePieceTypeId'], axis=1)\n",
    "\n",
    "# Group by releaseKey since the data is in its own rows. Fill row with NAN if every row is NAN\n",
    "    db = db.groupby('releaseKey', as_index=True).agg(lambda x: np.nan if x.isnull().all()\n",
    "    else x.dropna()).reset_index()\n",
    "    db = db.set_index(np.arange(1, len(db) + 1))\n",
    "    return db\n",
    "\n",
    "\n",
    "main_db = split_metadata_into_columns(column_names, main_db)"
   ],
   "metadata": {
    "collapsed": false,
    "pycharm": {
     "name": "#%%\n"
    }
   }
  },
  {
   "cell_type": "code",
   "execution_count": 6,
   "outputs": [],
   "source": [
    "def extract_date(db):\n",
    "    \"\"\"Extract Release Date from metadata and convert it into MM YYYY format\"\"\"\n",
    "\n",
    "    date_pattern = 'releaseDate\\\":(\\d{9,10})'\n",
    "    def format_date(x):\n",
    "        date = re.search(date_pattern, x)\n",
    "        if date:\n",
    "            val = pd.to_datetime(date.group(1), unit='s')\n",
    "            val = val.strftime('%Y %b')\n",
    "            return val\n",
    "        else:\n",
    "            return 'No Date'\n",
    "\n",
    "    db['date'] = db['meta'].apply(format_date)\n",
    "    db = db.drop('meta', axis=1)\n",
    "    return db\n",
    "\n",
    "main_db = extract_date(main_db)"
   ],
   "metadata": {
    "collapsed": false,
    "pycharm": {
     "name": "#%% Extract Relevant Information from metadata\n"
    }
   }
  },
  {
   "cell_type": "code",
   "execution_count": 7,
   "outputs": [],
   "source": [
    "def create_platform(db):\n",
    "    with open(global_imports.platforms_json) as platform_file:\n",
    "        platform = json.load(platform_file)\n",
    "\n",
    "    # Create a regex pattern of all platforms to match and then return the actual platform name\n",
    "    platform_keys = list(platform.keys())\n",
    "    platform_pattern = re.compile(r\"(\\b{}\\b)\".format(\"|\".join(platform_keys)))\n",
    "\n",
    "    def platform_extract(x):\n",
    "        m = platform_pattern.match(x)\n",
    "        if m:\n",
    "            return platform[m.group(1)]\n",
    "\n",
    "    db['platform'] = db['releaseKey'].apply(platform_extract)\n",
    "    return db\n",
    "\n",
    "main_db = create_platform(main_db)"
   ],
   "metadata": {
    "collapsed": false,
    "pycharm": {
     "name": "#%% Create Platform Column by extracting from releaseKey\n"
    }
   }
  },
  {
   "cell_type": "code",
   "execution_count": 19,
   "outputs": [
    {
     "data": {
      "text/plain": "               releaseKey                                    title      date  \\\n0    battlenet_1146311730                    {\"title\":\"Destiny 2\"}  2017 Sep   \n1    battlenet_1214607983         {\"title\":\"Heroes of the Storm®\"}  2015 Jun   \n2    battlenet_1465140039                 {\"title\":\"Hearthstone®\"}  2014 Mar   \n3         battlenet_17459                  {\"title\":\"Diablo® III\"}  2012 May   \n4         battlenet_21297        {\"title\":\"StarCraft® Remastered\"}  2017 Aug   \n..                    ...                                      ...       ...   \n652     xboxone_964706972                 {\"title\":\"No Man's Sky\"}  2016 Aug   \n653     xboxone_968775939                    {\"title\":\"Everspace\"}  2017 May   \n654     xboxone_974586226  {\"title\":\"We Happy Few (Game Preview)\"}  2018 Aug   \n655     xboxone_979032440           {\"title\":\"Supermarket Shriek\"}  2019 Jun   \n656     xboxone_983730484        {\"title\":\"ARK: Survival Evolved\"}  2017 Aug   \n\n          platform  isDlc  isVisibleInLibrary  \n0       Battle.net      0                   1  \n1       Battle.net      0                   1  \n2       Battle.net      0                   1  \n3       Battle.net      0                   1  \n4       Battle.net      0                   1  \n..             ...    ...                 ...  \n652  Xbox Gamepass      0                   1  \n653  Xbox Gamepass      0                   1  \n654  Xbox Gamepass      0                   1  \n655  Xbox Gamepass      0                   1  \n656  Xbox Gamepass      0                   1  \n\n[644 rows x 6 columns]",
      "text/html": "<div>\n<style scoped>\n    .dataframe tbody tr th:only-of-type {\n        vertical-align: middle;\n    }\n\n    .dataframe tbody tr th {\n        vertical-align: top;\n    }\n\n    .dataframe thead th {\n        text-align: right;\n    }\n</style>\n<table border=\"1\" class=\"dataframe\">\n  <thead>\n    <tr style=\"text-align: right;\">\n      <th></th>\n      <th>releaseKey</th>\n      <th>title</th>\n      <th>date</th>\n      <th>platform</th>\n      <th>isDlc</th>\n      <th>isVisibleInLibrary</th>\n    </tr>\n  </thead>\n  <tbody>\n    <tr>\n      <th>0</th>\n      <td>battlenet_1146311730</td>\n      <td>{\"title\":\"Destiny 2\"}</td>\n      <td>2017 Sep</td>\n      <td>Battle.net</td>\n      <td>0</td>\n      <td>1</td>\n    </tr>\n    <tr>\n      <th>1</th>\n      <td>battlenet_1214607983</td>\n      <td>{\"title\":\"Heroes of the Storm®\"}</td>\n      <td>2015 Jun</td>\n      <td>Battle.net</td>\n      <td>0</td>\n      <td>1</td>\n    </tr>\n    <tr>\n      <th>2</th>\n      <td>battlenet_1465140039</td>\n      <td>{\"title\":\"Hearthstone®\"}</td>\n      <td>2014 Mar</td>\n      <td>Battle.net</td>\n      <td>0</td>\n      <td>1</td>\n    </tr>\n    <tr>\n      <th>3</th>\n      <td>battlenet_17459</td>\n      <td>{\"title\":\"Diablo® III\"}</td>\n      <td>2012 May</td>\n      <td>Battle.net</td>\n      <td>0</td>\n      <td>1</td>\n    </tr>\n    <tr>\n      <th>4</th>\n      <td>battlenet_21297</td>\n      <td>{\"title\":\"StarCraft® Remastered\"}</td>\n      <td>2017 Aug</td>\n      <td>Battle.net</td>\n      <td>0</td>\n      <td>1</td>\n    </tr>\n    <tr>\n      <th>...</th>\n      <td>...</td>\n      <td>...</td>\n      <td>...</td>\n      <td>...</td>\n      <td>...</td>\n      <td>...</td>\n    </tr>\n    <tr>\n      <th>652</th>\n      <td>xboxone_964706972</td>\n      <td>{\"title\":\"No Man's Sky\"}</td>\n      <td>2016 Aug</td>\n      <td>Xbox Gamepass</td>\n      <td>0</td>\n      <td>1</td>\n    </tr>\n    <tr>\n      <th>653</th>\n      <td>xboxone_968775939</td>\n      <td>{\"title\":\"Everspace\"}</td>\n      <td>2017 May</td>\n      <td>Xbox Gamepass</td>\n      <td>0</td>\n      <td>1</td>\n    </tr>\n    <tr>\n      <th>654</th>\n      <td>xboxone_974586226</td>\n      <td>{\"title\":\"We Happy Few (Game Preview)\"}</td>\n      <td>2018 Aug</td>\n      <td>Xbox Gamepass</td>\n      <td>0</td>\n      <td>1</td>\n    </tr>\n    <tr>\n      <th>655</th>\n      <td>xboxone_979032440</td>\n      <td>{\"title\":\"Supermarket Shriek\"}</td>\n      <td>2019 Jun</td>\n      <td>Xbox Gamepass</td>\n      <td>0</td>\n      <td>1</td>\n    </tr>\n    <tr>\n      <th>656</th>\n      <td>xboxone_983730484</td>\n      <td>{\"title\":\"ARK: Survival Evolved\"}</td>\n      <td>2017 Aug</td>\n      <td>Xbox Gamepass</td>\n      <td>0</td>\n      <td>1</td>\n    </tr>\n  </tbody>\n</table>\n<p>644 rows × 6 columns</p>\n</div>"
     },
     "execution_count": 19,
     "metadata": {},
     "output_type": "execute_result"
    }
   ],
   "source": [
    "def remove_hidden_games(db):\n",
    "    hidden_db_query = 'SELECT releaseKey, isDlc, isVisibleInLibrary FROM ReleaseProperties'\n",
    "    hidden_db = import_database_from_sql(hidden_db_query, global_imports.main_db_path)\n",
    "\n",
    "# Merge is on left because every releaseKey in main_db is present in hidden_db\n",
    "    db = db.merge(hidden_db, how='left', on='releaseKey')\n",
    "\n",
    "# Delete everything marked as DLC or not visible in library\n",
    "    db = db.drop(db[(db['isVisibleInLibrary'] == 0) | (db['isDlc'] == 1)].index)\n",
    "\n",
    "    return db\n",
    "\n",
    "main_db = remove_hidden_games(main_db)"
   ],
   "metadata": {
    "collapsed": false,
    "pycharm": {
     "name": "#%% Hide games marked as DLC and hidden in the library itself\n"
    }
   }
  }
 ],
 "metadata": {
  "kernelspec": {
   "display_name": "Python 3",
   "language": "python",
   "name": "python3"
  },
  "language_info": {
   "codemirror_mode": {
    "name": "ipython",
    "version": 2
   },
   "file_extension": ".py",
   "mimetype": "text/x-python",
   "name": "python",
   "nbconvert_exporter": "python",
   "pygments_lexer": "ipython2",
   "version": "2.7.6"
  }
 },
 "nbformat": 4,
 "nbformat_minor": 0
}